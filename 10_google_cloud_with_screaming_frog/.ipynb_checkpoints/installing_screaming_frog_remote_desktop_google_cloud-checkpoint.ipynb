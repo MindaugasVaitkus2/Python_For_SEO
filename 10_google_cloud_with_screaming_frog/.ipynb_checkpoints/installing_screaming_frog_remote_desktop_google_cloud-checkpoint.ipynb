{
 "cells": [
  {
   "cell_type": "markdown",
   "metadata": {},
   "source": [
    "# 10. How To Install Screaming Frog In The Cloud - REMOTE DESKTOP VERSION"
   ]
  },
  {
   "cell_type": "markdown",
   "metadata": {},
   "source": [
    "------------------------------------------------"
   ]
  },
  {
   "cell_type": "markdown",
   "metadata": {},
   "source": [
    "## Learning Outcomes\n",
    "\n",
    "- Learn to how to setup a linux environment with remote desktop on Google Cloud Platform\n",
    "- Learn how to connect into your linux environment with remote desktop\n",
    "- Learn how to run a screaming frog crawl in the cloud"
   ]
  },
  {
   "cell_type": "markdown",
   "metadata": {},
   "source": [
    "------------------------------------------------------"
   ]
  },
  {
   "cell_type": "markdown",
   "metadata": {},
   "source": [
    "As websites and web applications grow larger, often crawling it to investigate technical SEO issues can be too much for your local computer to handle. [James Finlayson](https://twitter.com/JamesFinlayson) came up with a great idea. \n",
    "\n",
    "Why don't we just put screaming frog on the cloud?\n",
    "\n",
    "This guide will help you easily setup Screaming Frog on a virtual machine instance on Google Cloud Platform. We will also setup a remote desktop and a graphical interface in order to see the Screaming Frog GUI.\n",
    "\n",
    "Let's get to it."
   ]
  },
  {
   "cell_type": "markdown",
   "metadata": {},
   "source": [
    "--------------------------------------------------------------------------------------------------------------------------------------------"
   ]
  },
  {
   "cell_type": "markdown",
   "metadata": {},
   "source": [
    "## Setup A Google Cloud Project"
   ]
  },
  {
   "cell_type": "markdown",
   "metadata": {},
   "source": [
    "Firstly, you'll need to have registered for a Google Cloud Platform account, then create a Google Cloud Project. If you need help with the setup, [you can refer to this guide.](https://sempioneer.com/python-for-seo/how-to-setup-a-google-cloud-project-with-apis/)"
   ]
  },
  {
   "cell_type": "markdown",
   "metadata": {},
   "source": [
    "--------------------------------------------------------------------------------------------------------------------------------------------"
   ]
  },
  {
   "cell_type": "markdown",
   "metadata": {},
   "source": [
    "## Enable A Virtual Machine "
   ]
  },
  {
   "cell_type": "markdown",
   "metadata": {},
   "source": [
    "![](https://sempioneer.com/wp-content/uploads/2020/06/setup-instructions.png)"
   ]
  },
  {
   "cell_type": "markdown",
   "metadata": {},
   "source": [
    "Click on the hamburger menu in the top left, then find the Compute Engine and Click on VM Instances. If this is the first time that you've setup a compute instance for this Google Project, you'll likely need to wait several minutes. Then click create!"
   ]
  },
  {
   "cell_type": "markdown",
   "metadata": {},
   "source": [
    "![waiting for compute engine in GCP](https://sempioneer.com/wp-content/uploads/2020/06/waiting-for-setup.png)"
   ]
  },
  {
   "cell_type": "markdown",
   "metadata": {},
   "source": [
    "---------------------------------------------------------------------------------------------------------"
   ]
  },
  {
   "cell_type": "markdown",
   "metadata": {},
   "source": [
    "## Setting Up Your Virtual Machine"
   ]
  },
  {
   "cell_type": "markdown",
   "metadata": {},
   "source": [
    "#### Reference Articles + Research:"
   ]
  },
  {
   "cell_type": "markdown",
   "metadata": {},
   "source": [
    "- https://www.vervesearch.com/blog/running-screaming-frog-on-googles-own-servers/\n",
    "- https://www.databulle.com/blog/seo/screaming-frog-headless.html\n",
    "- https://seobutler.com/badass-seo-automate-screaming-frog/\n",
    "- let's try importing a virtual disk - https://cloud.google.com/compute/docs/import/import-existing-image"
   ]
  },
  {
   "cell_type": "markdown",
   "metadata": {},
   "source": [
    "--------------------------------------------------------------------------------------------------------------------"
   ]
  },
  {
   "cell_type": "markdown",
   "metadata": {},
   "source": [
    "### Upgrading The System\n",
    "- sudo apt-get update && sudo apt-get upgrade\n",
    "- sudo apt-get install wget\n",
    "\n",
    "### Installing Google Chrome & Package Dependencies\n",
    "- wget https://dl.google.com/linux/direct/google-chrome-stable_current_amd64.deb\n",
    "- sudo apt --fix-broken install ./google-chrome-stable_current_amd64.deb\n",
    "- sudo apt-get install cabextract xfonts-utils  \n",
    "- wget http://ftp.de.debian.org/debian/pool/contrib/m/msttcorefonts/ttf-mscorefonts-installer_3.6_all.deb  \n",
    "- sudo dpkg -i ttf-mscorefonts-installer_3.6_all.deb  \n",
    "- sudo apt-get install xdg-utils zenity libgconf-2-4 fonts-wqy-zenhei  \n",
    "\n",
    "### Installing Screaming Frog\n",
    "- wget https://download.screamingfrog.co.uk/products/seo-spider/screamingfrogseospider_12.6_all.deb\n",
    "- sudo apt --fix-broken install ./screamingfrogseospider_9.1_all.deb"
   ]
  },
  {
   "cell_type": "markdown",
   "metadata": {},
   "source": [
    "### Installing Ubuntu Desktop"
   ]
  },
  {
   "cell_type": "markdown",
   "metadata": {},
   "source": [
    "- sudo apt-get install --no-install-recommends gnome-panel gnome-settings-daemon metacity nautilus gnome-terminal gnome-core"
   ]
  },
  {
   "cell_type": "markdown",
   "metadata": {},
   "source": [
    "### Installing The vnc4server Package:\n",
    "- sudo apt-get install vnc4server"
   ]
  },
  {
   "cell_type": "markdown",
   "metadata": {},
   "source": [
    "### Start The vncserver:\n",
    "\n",
    "Now type the command vncserver, to start a VNC session, you will be asked to create a new vnc password:"
   ]
  },
  {
   "cell_type": "markdown",
   "metadata": {},
   "source": [
    "------------------------------------------------------"
   ]
  },
  {
   "cell_type": "markdown",
   "metadata": {},
   "source": [
    "## Install Google Cloud Software Development Kit (SDK)"
   ]
  },
  {
   "cell_type": "code",
   "execution_count": null,
   "metadata": {},
   "outputs": [],
   "source": []
  },
  {
   "cell_type": "markdown",
   "metadata": {},
   "source": [
    "------------------------------------------"
   ]
  },
  {
   "cell_type": "markdown",
   "metadata": {},
   "source": [
    "## Create an SSH Tunnel + Remote Desktop Server On The Same Port"
   ]
  },
  {
   "cell_type": "markdown",
   "metadata": {},
   "source": [
    "- gcloud compute ssh --project=savvy-motif-278215 --zone=us-central1-a screaming-frog -- -N -p 5901 -D localhost:5901"
   ]
  },
  {
   "cell_type": "markdown",
   "metadata": {},
   "source": [
    "I need to work on tidying up this section of the tutorial!"
   ]
  },
  {
   "cell_type": "markdown",
   "metadata": {},
   "source": [
    "- Create a new configuration using gcloud init"
   ]
  },
  {
   "cell_type": "code",
   "execution_count": null,
   "metadata": {},
   "outputs": [],
   "source": []
  },
  {
   "cell_type": "markdown",
   "metadata": {},
   "source": [
    "---------------------------------------------------------------"
   ]
  },
  {
   "cell_type": "markdown",
   "metadata": {},
   "source": [
    "## Installing Remote Desktop Software On Your Local Computer (VNCViewer)"
   ]
  },
  {
   "cell_type": "code",
   "execution_count": null,
   "metadata": {},
   "outputs": [],
   "source": []
  },
  {
   "cell_type": "markdown",
   "metadata": {},
   "source": [
    "--------------------------------------------------------------------------------------------------------------------------------------------"
   ]
  },
  {
   "cell_type": "markdown",
   "metadata": {},
   "source": [
    "## Connect To Your Virtual Machine Via Remote Desktop"
   ]
  },
  {
   "cell_type": "code",
   "execution_count": null,
   "metadata": {},
   "outputs": [],
   "source": []
  },
  {
   "cell_type": "code",
   "execution_count": null,
   "metadata": {},
   "outputs": [],
   "source": []
  },
  {
   "cell_type": "markdown",
   "metadata": {},
   "source": [
    "-------------------------------------------------------------------------------------------------------------------------------------------------------------------------------"
   ]
  }
 ],
 "metadata": {
  "kernelspec": {
   "display_name": "Python 3",
   "language": "python",
   "name": "python3"
  },
  "language_info": {
   "codemirror_mode": {
    "name": "ipython",
    "version": 3
   },
   "file_extension": ".py",
   "mimetype": "text/x-python",
   "name": "python",
   "nbconvert_exporter": "python",
   "pygments_lexer": "ipython3",
   "version": "3.7.6"
  }
 },
 "nbformat": 4,
 "nbformat_minor": 4
}
