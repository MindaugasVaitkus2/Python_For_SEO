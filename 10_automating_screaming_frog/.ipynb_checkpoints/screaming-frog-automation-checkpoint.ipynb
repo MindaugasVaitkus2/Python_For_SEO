{
 "cells": [
  {
   "cell_type": "markdown",
   "metadata": {},
   "source": [
    "# 9. The Comprehensive Guide To Automating Screaming Frog"
   ]
  },
  {
   "cell_type": "markdown",
   "metadata": {},
   "source": [
    "------------------------------------------------"
   ]
  },
  {
   "cell_type": "markdown",
   "metadata": {},
   "source": [
    "## Learning Outcomes\n",
    "\n",
    "- To learn how to use run Screaming Frog using the command line for Mac & Windows.\n",
    "- To learn how to automatically run the Screaming Frog commands on Mac/Linux.\n",
    "- To learn how to extract and wrangle the data returned directly from Screaming Frog reports in Python with Pandas.\n",
    "- To learn how to how to upload your Screaming Frog data to BigQuery.\n",
    "- To learn how to automatically run your Screaming Frog crawls daily with CRONtab."
   ]
  },
  {
   "cell_type": "markdown",
   "metadata": {},
   "source": [
    "------------------------------------------------------"
   ]
  },
  {
   "cell_type": "markdown",
   "metadata": {},
   "source": [
    "[Screaming Frog (SF)](https://www.screamingfrog.co.uk/seo-spider/) is a fantastic desktop crawler that's available for Windows, Mac and Linux. \n",
    "\n",
    "This tutorial is separated into multiple parts:\n",
    "\n",
    "You'll learn not only how to easily automate SF crawls but also how to automatically wrangle the data using Python.\n",
    "\n",
    "Then we'll <strong> create a data pipeline which will push all of the data into BigQuery that will then be viewed via a Google Data Report template. </strong>\n",
    "\n",
    "---\n",
    "\n",
    "Finally, we'll step up the automation and upload our scripts to a Google Cloud virtual machine:\n",
    "- The virtual machine will turn on every day at a specific time.\n",
    "- Several python scripts will automatically execute and will perform the following: \n",
    "    - A list of domains from a .txt file / via environment variables will be sequentially crawled.\n",
    "    - The data will be wrangled.\n",
    "    - The data will be saved to BigQuery.\n",
    "- Then the virtual machine will shut down after all of the domains have either completed or failed.\n",
    "- The daily data will then be available via Google Data Studio\n",
    "\n",
    "---\n",
    "\n",
    "\n",
    "## 1. Screaming Frog On The Command Line (CLI)\n",
    "- [Part 1 - Learning How To Use Screaming Frog On The Command Line - Mac/Linux](#) \n",
    "- [Part 1 - Learning How To Use Screaming Frog On The Command Line - Windows](#) \n",
    "\n",
    "## 2. Automating Screaming Frog Data Analysis\n",
    "- [Part 2 - Data Wrangling Using Pandas & Python](#)\n",
    "\n",
    "## 3. Pushing Your Data Into BigQuery\n",
    "- [Part 3 - Uploading Data into BigQuery with Python](#)\n",
    "\n",
    "## 4. Viewing Your Data In A Google Data Studio Template\n",
    "- [Part 4 - Connecting a Google Data Template To The BigQuery Data]\n",
    "\n",
    "## 5. Automating The Automation + Scheduling\n",
    "- [Part 5 - How To Run CRONjobs and Start Up And Shutdown A Google Cloud Virtual Machine](#)"
   ]
  },
  {
   "cell_type": "markdown",
   "metadata": {},
   "source": [
    "--------------------------------------------------------------------------------------------------------------------------------"
   ]
  },
  {
   "cell_type": "markdown",
   "metadata": {},
   "source": [
    "Let's get to it and take Screaming Frog to the next level!\n",
    "\n",
    "![screaming frog image](https://sempioneer.com/wp-content/uploads/2020/06/screaming-frog-template.png)"
   ]
  },
  {
   "cell_type": "markdown",
   "metadata": {},
   "source": [
    "------------------------------------------------------------------------------"
   ]
  },
  {
   "cell_type": "markdown",
   "metadata": {},
   "source": [
    "## The Command Line"
   ]
  },
  {
   "cell_type": "markdown",
   "metadata": {},
   "source": [
    "Before I give you any commands to copy and paste, the next part of this guide will show you how to use the [command line](https://www.codecademy.com/articles/command-line-commands#:~:text=The%20command%20line%20is%20a,or%20Finder%20on%20Mac%20OS). Lots of activities that you regularly do on your computer such as opening/closing programs or requesting a web page can be performed on the command line.\n",
    "\n",
    "If you'd like a detailed overview of the different types of commands you can use on your computer, I'd recommend viewing these guides:\n",
    "\n",
    "---\n",
    "\n",
    "- [Mac/Linux Udemy Course](https://www.udemy.com/course/mac-os-x-command-line-beyond-the-basics-d/)\n",
    "- [Mac/Linux Cheatsheet](https://cheatography.com/davechild/cheat-sheets/linux-command-line/)\n",
    "- [Windows Udemy Course](https://www.udemy.com/topic/windows-command-line/)\n",
    "- [Windows Command Prompt Cheatsheet](https://www.sans.org/security-resources/sec560/windows_command_line_sheet_v1.pdf)\n"
   ]
  },
  {
   "cell_type": "markdown",
   "metadata": {},
   "source": [
    "-------------------------------------------------------------------------------------------------------------------"
   ]
  },
  {
   "cell_type": "markdown",
   "metadata": {},
   "source": [
    "## Part 1 - Screaming Frog CLI"
   ]
  },
  {
   "cell_type": "markdown",
   "metadata": {},
   "source": [
    "### Mac"
   ]
  },
  {
   "cell_type": "markdown",
   "metadata": {},
   "source": [
    "This part of the tutorial is only for Mac OSX users, therefore if you're using Windows, visit the Windows section instead here."
   ]
  },
  {
   "cell_type": "markdown",
   "metadata": {},
   "source": [
    "#### Opening Terminal"
   ]
  },
  {
   "cell_type": "markdown",
   "metadata": {},
   "source": [
    "Firstly you will need to open terminal which can be done by the following commands:\n",
    "    \n",
    "- ⌘ Cmd + Space\n",
    "- Type terminal\n",
    "- Press enter"
   ]
  },
  {
   "cell_type": "markdown",
   "metadata": {},
   "source": [
    "----------------"
   ]
  },
  {
   "cell_type": "markdown",
   "metadata": {},
   "source": [
    "![terminal loading here](https://sempioneer.com/wp-content/uploads/2020/06/loading-macosx-terminal-1.png)"
   ]
  },
  {
   "cell_type": "markdown",
   "metadata": {},
   "source": [
    "----------------------------"
   ]
  },
  {
   "cell_type": "markdown",
   "metadata": {},
   "source": [
    "![mac os x terminal loaded](https://sempioneer.com/wp-content/uploads/2020/06/macosx-terminal-start-1.png)"
   ]
  },
  {
   "cell_type": "markdown",
   "metadata": {},
   "source": [
    "#### Useful Linux Commands:"
   ]
  },
  {
   "cell_type": "markdown",
   "metadata": {},
   "source": [
    "Several useful commands that you can use are:\n",
    "- cd ~ (cd allows you to change directory)\n",
    "- pwd (pwd prints your current working directory)\n",
    "- mkdir folder (mkdir allows you to create folders)\n",
    "- clear (clear removes any previous text from your terminal)"
   ]
  },
  {
   "cell_type": "markdown",
   "metadata": {},
   "source": [
    "--------------------------------------------------------------------------------------------------------------"
   ]
  },
  {
   "cell_type": "markdown",
   "metadata": {},
   "source": [
    "#### How To Open Screaming Frog With The Terminal"
   ]
  },
  {
   "cell_type": "markdown",
   "metadata": {},
   "source": [
    "Assuming that Screaming Frog is installed in the default location, you can run Screaming Frog with:\n",
    "    \n",
    "~~~\n",
    "\n",
    "/Applications/Screaming\\ Frog\\ SEO\\ Spider.app/Contents/MacOS/ScreamingFrogSEOSpiderLauncher\n",
    "\n",
    "~~~"
   ]
  },
  {
   "cell_type": "markdown",
   "metadata": {},
   "source": [
    "------------------------------------------------------------------------------------------------------------"
   ]
  },
  {
   "cell_type": "markdown",
   "metadata": {},
   "source": [
    "#### How To Create An Alias In Terminal"
   ]
  },
  {
   "cell_type": "markdown",
   "metadata": {},
   "source": [
    "Now let's create a shortcut for the command that we just ran, this is called an alias. All of your alias' shortcuts need to be created inside of:\n",
    "    \n",
    "~~~\n",
    " \n",
    "~/.bash_profile (Older Mac Terminals)\n",
    "~/.zshrc (Newer Mac Terminals)\n",
    "\n",
    "~~~"
   ]
  },
  {
   "cell_type": "markdown",
   "metadata": {},
   "source": [
    "NB: You can easily find out whether you're on a new Mac terminal with:\n",
    "\n",
    "~~~\n",
    "\n",
    "which $SHELL\n",
    "    \n",
    "~~~\n",
    "\n",
    "If it says /bin/zsh, then you will need to update the .zsrc file instead."
   ]
  },
  {
   "cell_type": "markdown",
   "metadata": {},
   "source": [
    "You can edit this file with either:\n",
    "~~~    \n",
    "cd ~ && sudo nano .bash_profile (Older Mac Terminals)\n",
    "cd ~ && sudo nano .zshrc (Newer Mac Terminals)\n",
    "~~~"
   ]
  },
  {
   "cell_type": "markdown",
   "metadata": {},
   "source": [
    "------------------------------------------------------"
   ]
  },
  {
   "cell_type": "markdown",
   "metadata": {},
   "source": [
    "The alias that we will create will be called sf and will automatically run the Screaming Frog Application. Add the following to either your .bash_profile or .zsrc file:\n",
    "\n",
    "~~~\n",
    "\n",
    "alias sf=\"/Applications/Screaming\\ Frog\\ SEO\\ Spider.app/Contents/MacOS/ScreamingFrogSEOSpiderLauncher\"\n",
    "\n",
    "~~~"
   ]
  },
  {
   "cell_type": "markdown",
   "metadata": {},
   "source": [
    "![](https://sempioneer.com/wp-content/uploads/2020/06/creating-alias-sf.png)"
   ]
  },
  {
   "cell_type": "markdown",
   "metadata": {},
   "source": [
    "Then hit:\n",
    "    \n",
    "~~~\n",
    "\n",
    "CTRL + X (to save the file)\n",
    "Enter\n",
    "\n",
    "~~~"
   ]
  },
  {
   "cell_type": "markdown",
   "metadata": {},
   "source": [
    "![](https://sempioneer.com/wp-content/uploads/2020/06/confirming-alias-sf.png)"
   ]
  },
  {
   "cell_type": "markdown",
   "metadata": {},
   "source": [
    "------------------------------------------------------------------"
   ]
  },
  {
   "cell_type": "markdown",
   "metadata": {},
   "source": [
    "Now close your terminal and reload it using:\n",
    "- ⌘ Cmd + Space\n",
    "- Type terminal\n",
    "- Press enter"
   ]
  },
  {
   "cell_type": "markdown",
   "metadata": {},
   "source": [
    "---------------------------------------------------------------------------------"
   ]
  },
  {
   "cell_type": "markdown",
   "metadata": {},
   "source": [
    "Now type:\n",
    "    \n",
    "~~~\n",
    "\n",
    "sf\n",
    "\n",
    "~~~"
   ]
  },
  {
   "cell_type": "markdown",
   "metadata": {},
   "source": [
    "![](https://sempioneer.com/wp-content/uploads/2020/06/screaming-frog-alias.png)"
   ]
  },
  {
   "cell_type": "markdown",
   "metadata": {},
   "source": [
    "As you can see, we've now successfully created a shortcut for loading Screaming Frog."
   ]
  },
  {
   "cell_type": "markdown",
   "metadata": {},
   "source": [
    "--------------------------------------------------------"
   ]
  },
  {
   "cell_type": "markdown",
   "metadata": {},
   "source": [
    "#### How To See All Of The Commands:"
   ]
  },
  {
   "cell_type": "markdown",
   "metadata": {},
   "source": [
    "You can easily get a list of all of the available commands with:\n",
    "    \n",
    "~~~\n",
    "\n",
    "sf --help\n",
    "\n",
    "~~~"
   ]
  },
  {
   "cell_type": "markdown",
   "metadata": {},
   "source": [
    "-------------------------------------------------------------------------------------------------------------------"
   ]
  },
  {
   "cell_type": "markdown",
   "metadata": {},
   "source": [
    "#### How To Run A Crawl"
   ]
  },
  {
   "cell_type": "markdown",
   "metadata": {},
   "source": [
    "If you want to open Screaming Frog and crawl a website use this:\n",
    "\n",
    "~~~\n",
    "\n",
    "sf --crawl <url_name>\n",
    "\n",
    "~~~"
   ]
  },
  {
   "cell_type": "markdown",
   "metadata": {},
   "source": [
    "For example if you wanted to crawl https://sempioneer.com:\n",
    "    \n",
    "~~~\n",
    "\n",
    "sf --crawl https://sempioneer.com\n",
    "\n",
    "~~~"
   ]
  },
  {
   "cell_type": "markdown",
   "metadata": {},
   "source": [
    "You can use any URL or domain name that you'd like and the above commands will both:\n",
    "\n",
    "- Open your Screaming Frog Application.\n",
    "- Crawl the desired domain."
   ]
  },
  {
   "cell_type": "markdown",
   "metadata": {},
   "source": [
    "------------------------------------------------------------------------------------------------------------"
   ]
  },
  {
   "cell_type": "markdown",
   "metadata": {},
   "source": [
    "#### How To Run Screaming Frog Headless (Without A Graphical User Interface)"
   ]
  },
  {
   "cell_type": "markdown",
   "metadata": {},
   "source": [
    "It's possible for us to execute Screaming Frog without a graphical user interface, by adding <strong>--headless</strong>:\n",
    "\n",
    "~~~\n",
    "\n",
    "sf --headless --crawl <url>\n",
    "\n",
    "\n",
    "~~~\n",
    "\n",
    "Additionally we can save the crawl by adding <strong> --save-crawl </strong>:\n",
    "\n",
    "\n",
    "~~~\n",
    "\n",
    "sf --headless --save-crawl --crawl <url> \n",
    "\n",
    "~~~\n",
    "\n",
    "---\n",
    "\n",
    "<strong> NB: You will need to [purchase a license](https://www.screamingfrog.co.uk/seo-spider/licence/) for executing Screaming Frog with the --save-crawl functionality. </strong>"
   ]
  },
  {
   "cell_type": "markdown",
   "metadata": {},
   "source": [
    "An example would be:\n",
    "    \n",
    "~~~\n",
    "\n",
    "sf --headless --save-crawl --crawl https://phoenixandpartners.co.uk/\n",
    "\n",
    "~~~"
   ]
  },
  {
   "cell_type": "markdown",
   "metadata": {},
   "source": [
    "------------------------------------------------------------------------------------------------------------"
   ]
  },
  {
   "cell_type": "markdown",
   "metadata": {},
   "source": [
    "### How To Export Data"
   ]
  },
  {
   "cell_type": "markdown",
   "metadata": {},
   "source": [
    "Instead of saving a crawl, we will export the data to a folder using by adding two extra arguments\n",
    "\n",
    "~~~\n",
    "\n",
    "--output-folder (This argument allows us to specify a folder where you would like to export the crawl data)\n",
    "--timestamped-output (This argument will save the file under a time-stamped folder and as every file is saved as crawl.seospider, adding a timestamp prevents a conflict or overwriting an existing file).\n",
    "\n",
    "~~~"
   ]
  },
  {
   "cell_type": "markdown",
   "metadata": {},
   "source": [
    "1. Locate your username by typing <strong> pwd </strong> in Terminal and excluding the $. For example my username is: jamesaphoenix\n",
    "    \n"
   ]
  },
  {
   "cell_type": "markdown",
   "metadata": {},
   "source": [
    "![](https://sempioneer.com/wp-content/uploads/2020/06/finding-user-name.png)"
   ]
  },
  {
   "cell_type": "markdown",
   "metadata": {},
   "source": [
    "2. Go back to either your .bash_profile file or .zshrc file and let's create a new alias:\n",
    "\n",
    "\n",
    "~~~\n",
    "cd ~ && sudo nano .bash_profile (Older Mac Terminals)\n",
    "cd ~ && sudo nano .zshrc (Newer Mac Terminals)\n",
    "~~~\n",
    "\n",
    "---\n",
    "\n",
    "Then add the following alias to the bottom of the file:\n",
    "\n",
    "~~~\n",
    "alias sf-headless=\"/Applications/Screaming\\ Frog\\ SEO\\ Spider.app/Contents/MacOS/ScreamingFrogSEOSpiderLauncher --headless --save-crawl --output-folder /users/{username}/desktop --timestamped-output --crawl\"\n",
    "~~~\n",
    "\n",
    "---\n",
    "\n",
    "Please remember to replace <strong> {username} </strong> with your true username!"
   ]
  },
  {
   "cell_type": "markdown",
   "metadata": {},
   "source": [
    "------------------------------------------------------------------------"
   ]
  },
  {
   "cell_type": "markdown",
   "metadata": {},
   "source": [
    "Save your file and load up a new Terminal window and enter:\n",
    "    \n",
    "~~~\n",
    "\n",
    "sf-headless example.org\n",
    "\n",
    "\n",
    "~~~"
   ]
  },
  {
   "cell_type": "markdown",
   "metadata": {},
   "source": [
    "You'll hopefully have a time-stamped folder on your desktop and inside of that folder, you will see a file called crawl.seospider"
   ]
  },
  {
   "cell_type": "markdown",
   "metadata": {},
   "source": [
    "------------------------------------------------------"
   ]
  },
  {
   "cell_type": "markdown",
   "metadata": {},
   "source": [
    "![](https://sempioneer.com/wp-content/uploads/2020/06/folder-.png)"
   ]
  },
  {
   "cell_type": "markdown",
   "metadata": {},
   "source": [
    "------------------------------------------------------"
   ]
  },
  {
   "cell_type": "markdown",
   "metadata": {},
   "source": [
    "![](https://sempioneer.com/wp-content/uploads/2020/06/seo-spider.png)"
   ]
  },
  {
   "cell_type": "markdown",
   "metadata": {},
   "source": [
    "--------------------------------------------------"
   ]
  },
  {
   "cell_type": "markdown",
   "metadata": {},
   "source": [
    "#### How To Export CSV Files:"
   ]
  },
  {
   "cell_type": "markdown",
   "metadata": {},
   "source": [
    "As well as doing a crawl, its possible to automatically extract the .csv files."
   ]
  },
  {
   "cell_type": "markdown",
   "metadata": {},
   "source": [
    "You can export tabs, which are the following:\n",
    "    \n",
    "![](https://sempioneer.com/wp-content/uploads/2020/06/tabs.png)\n"
   ]
  },
  {
   "cell_type": "markdown",
   "metadata": {},
   "source": [
    "For example if we wanted to crawl the website and export a .csv file with all of the images without alt text, we would do the following:\n",
    "\n",
    "~~~\n",
    "sf --crawl <url> --output-folder /users/{username}/desktop/sf --export-tabs \"Images:Missing Alt Text\" --headless\n",
    "~~~"
   ]
  },
  {
   "cell_type": "markdown",
   "metadata": {},
   "source": [
    "---------------------------------------------------------------------------------------------------------"
   ]
  },
  {
   "cell_type": "markdown",
   "metadata": {},
   "source": [
    "The snytax for exporting from tabs follows a generic structure:"
   ]
  },
  {
   "cell_type": "markdown",
   "metadata": {},
   "source": [
    "~~~\n",
    "\n",
    "--export-tabs \"tab-parent:tab-child\"\n",
    "\n",
    "~~~"
   ]
  },
  {
   "cell_type": "markdown",
   "metadata": {},
   "source": [
    "--------------------------------------------------------------------------------"
   ]
  },
  {
   "cell_type": "markdown",
   "metadata": {},
   "source": [
    "#### How To Export Multiple Tabs"
   ]
  },
  {
   "cell_type": "markdown",
   "metadata": {},
   "source": [
    "You can also export multiple files at once by simplying separating them by a comma:\n",
    "    \n",
    "~~~\n",
    "\n",
    "\"parent1:child1,parent2:child2,parent3:child3\"\n",
    "\n",
    "~~~"
   ]
  },
  {
   "cell_type": "markdown",
   "metadata": {},
   "source": [
    "In order to see the parent:child relationships for the tabs, simply look at how they nested inside of the right panel of Screaming Frog:\n",
    "        "
   ]
  },
  {
   "cell_type": "markdown",
   "metadata": {},
   "source": [
    "![](https://sempioneer.com/wp-content/uploads/2020/06/meta-description-tab.png)"
   ]
  },
  {
   "cell_type": "markdown",
   "metadata": {},
   "source": [
    "-------------------------------------------------"
   ]
  },
  {
   "cell_type": "markdown",
   "metadata": {},
   "source": [
    "![](https://sempioneer.com/wp-content/uploads/2020/06/page-titles-tab.png)"
   ]
  },
  {
   "cell_type": "markdown",
   "metadata": {},
   "source": [
    "------------------------"
   ]
  },
  {
   "cell_type": "markdown",
   "metadata": {},
   "source": [
    "Let's simulataneously extract duplicated title tags, missing title tags and meta descriptions:\n",
    "\n",
    "~~~\n",
    "sf --crawl phoenixandpartners.co.uk --timestamped-output --output-folder /users/{username}/Desktop --export-tabs \"Page Titles:Duplicate,Page Titles:Missing,Meta Description:Missing\" --headless\n",
    "\n",
    "~~~\n",
    "\n",
    "--- \n",
    "\n",
    "For example my username is jamesaphoenix:\n",
    "\n",
    "~~~\n",
    "sf --crawl phoenixandpartners.co.uk --timestamped-output --output-folder /users/{username}/Desktop --export-tabs \"Page Titles:Duplicate,Page Titles:Missing,Meta Description:Missing\" --headless\n",
    "~~~\n",
    "\n",
    "---\n",
    "\n",
    "![](https://sempioneer.com/wp-content/uploads/2020/06/exporting-multiple-tabs-with-screaming-frog-cli.png)"
   ]
  },
  {
   "cell_type": "markdown",
   "metadata": {},
   "source": [
    "------------------------------------------------------------------------"
   ]
  },
  {
   "cell_type": "markdown",
   "metadata": {},
   "source": [
    "#### How To Export Reports"
   ]
  },
  {
   "cell_type": "markdown",
   "metadata": {},
   "source": [
    "Also you can export reports:\n",
    "\n",
    "![](https://sempioneer.com/wp-content/uploads/2020/06/exporting-screaming-frog-reports.png)"
   ]
  },
  {
   "cell_type": "markdown",
   "metadata": {},
   "source": [
    "The syntax is similar and uses the <strong>parent:child</strong> structure, however if there is no child then only the parent name is required."
   ]
  },
  {
   "cell_type": "markdown",
   "metadata": {},
   "source": [
    "Here's an example where only the parent level is required:\n",
    "\n",
    "~~~\n",
    "sf --crawl <url> --timestamped-output --output-folder /users/{username}/desktop --save-report \"Redirect & Canonical Chains\" --headless\n",
    "\n",
    "~~~\n",
    "---\n",
    "Here's an example where the parent:child structure is required:\n",
    "~~~\n",
    "sf --crawl <url> --timestamped-output --output-folder /users/{username}/desktop --save-report \"Redirects:All Redirects\" --headless\n",
    "~~~\n",
    "\n",
    "--- \n"
   ]
  },
  {
   "cell_type": "markdown",
   "metadata": {},
   "source": [
    "![](https://sempioneer.com/wp-content/uploads/2020/06/all-redirects.png)"
   ]
  },
  {
   "cell_type": "markdown",
   "metadata": {},
   "source": [
    "#### How To Perform Bulk Exports"
   ]
  },
  {
   "cell_type": "markdown",
   "metadata": {},
   "source": [
    "We can also extract the bulk exports too! \n",
    "\n",
    "![](https://sempioneer.com/wp-content/uploads/2020/06/bulk-export.png)\n",
    "\n",
    "An example where only a parent level is required:\n",
    "\n",
    "~~~\n",
    "\n",
    "sf --crawl <url> --timestamped-output --output-folder /users/{username}/Desktop --bulk-export \"All Images\" --headless\n",
    "\n",
    "~~~\n",
    "\n",
    "---\n",
    "\n",
    "An example where the parent:child structure is required:\n",
    "\n",
    "~~~\n",
    "\n",
    "sf --crawl <url> --timestamped-output --output-folder /users/{username}/Desktop --bulk-export \"AMP:All Inlinks\" --headless\n",
    "\n",
    "~~~"
   ]
  },
  {
   "cell_type": "markdown",
   "metadata": {},
   "source": [
    "------------------------------------------------------------------------------------------------------------------------------"
   ]
  },
  {
   "cell_type": "markdown",
   "metadata": {},
   "source": [
    "#### How To Create A Sitemap"
   ]
  },
  {
   "cell_type": "markdown",
   "metadata": {},
   "source": [
    "If you're using a content management system such as Wordpress, then I'd recommend using a plugin such as [Yoast](https://yoast.com/wordpress/plugins/seo/)/ [TheSEOFramework](https://theseoframework.com/) / [RankMath](https://rankmath.com/) to automatically build your sitemap.xml files.\n",
    "\n",
    "However if you're working with a headless CMS or a static website, you can automatically create sitemaps with Screaming Frog:\n",
    "\n",
    "~~~\n",
    "\n",
    "sf --crawl <url> --create-sitemap --output-folder /users/{username}/desktop --headless\n",
    "\n",
    "~~~"
   ]
  },
  {
   "cell_type": "markdown",
   "metadata": {},
   "source": [
    "![](https://sempioneer.com/wp-content/uploads/2020/06/sitemap_xml.png)"
   ]
  },
  {
   "cell_type": "markdown",
   "metadata": {},
   "source": [
    "------------------------------------------------------------------------------------------------------------------------------"
   ]
  },
  {
   "cell_type": "markdown",
   "metadata": {},
   "source": [
    "#### How To Create Configuration Files"
   ]
  },
  {
   "cell_type": "markdown",
   "metadata": {},
   "source": [
    "Configuration files allow you to tune the crawl speed, choose specific user agents, crawl or not crawl specific pages and tons more!\n",
    "\n",
    "After changing the configuration inside of Screaming Frog, you can save it as a configuration file.\n",
    "\n",
    "We can then apply that config file to a headless terminal screaming frog crawl via the terminal.\n",
    "\n",
    "---\n",
    "\n",
    "\n",
    "Create Your Config File:\n",
    "\n",
    "First open up Screaming Frog and go to Configuration >> Extraction >> Structured Data:\n",
    "\n",
    "Then tick the following checkboxes:\n",
    "\n",
    "- JSON-LD\n",
    "- Microdata\n",
    "- RDFa\n",
    "\n",
    "\n",
    "![]()\n"
   ]
  },
  {
   "cell_type": "markdown",
   "metadata": {},
   "source": [
    "------------------------------------------------------------------------------------------------------------------------------"
   ]
  },
  {
   "cell_type": "markdown",
   "metadata": {},
   "source": [
    "#### How To Crawl Text Files"
   ]
  },
  {
   "cell_type": "code",
   "execution_count": null,
   "metadata": {},
   "outputs": [],
   "source": []
  },
  {
   "cell_type": "markdown",
   "metadata": {},
   "source": [
    "------------------------------------------------------------------------------------------------------------------------------"
   ]
  },
  {
   "cell_type": "markdown",
   "metadata": {},
   "source": [
    "### Windows"
   ]
  },
  {
   "cell_type": "code",
   "execution_count": null,
   "metadata": {},
   "outputs": [],
   "source": []
  },
  {
   "cell_type": "markdown",
   "metadata": {},
   "source": [
    "------------------------------------------------------------------------------------------------------------"
   ]
  },
  {
   "cell_type": "code",
   "execution_count": null,
   "metadata": {},
   "outputs": [],
   "source": []
  },
  {
   "cell_type": "markdown",
   "metadata": {},
   "source": [
    "--------------------------------------------------------------------------------------------------------------------------------"
   ]
  },
  {
   "cell_type": "code",
   "execution_count": null,
   "metadata": {},
   "outputs": [],
   "source": []
  },
  {
   "cell_type": "markdown",
   "metadata": {},
   "source": [
    "--------------------------------------------------------------------------------------------------------------------------------"
   ]
  },
  {
   "cell_type": "code",
   "execution_count": null,
   "metadata": {},
   "outputs": [],
   "source": []
  },
  {
   "cell_type": "code",
   "execution_count": null,
   "metadata": {},
   "outputs": [],
   "source": []
  },
  {
   "cell_type": "code",
   "execution_count": null,
   "metadata": {},
   "outputs": [],
   "source": []
  },
  {
   "cell_type": "code",
   "execution_count": null,
   "metadata": {},
   "outputs": [],
   "source": []
  },
  {
   "cell_type": "code",
   "execution_count": null,
   "metadata": {},
   "outputs": [],
   "source": []
  },
  {
   "cell_type": "code",
   "execution_count": null,
   "metadata": {},
   "outputs": [],
   "source": []
  },
  {
   "cell_type": "code",
   "execution_count": null,
   "metadata": {},
   "outputs": [],
   "source": []
  },
  {
   "cell_type": "code",
   "execution_count": null,
   "metadata": {},
   "outputs": [],
   "source": []
  },
  {
   "cell_type": "code",
   "execution_count": null,
   "metadata": {},
   "outputs": [],
   "source": []
  },
  {
   "cell_type": "code",
   "execution_count": null,
   "metadata": {},
   "outputs": [],
   "source": []
  },
  {
   "cell_type": "code",
   "execution_count": null,
   "metadata": {},
   "outputs": [],
   "source": []
  },
  {
   "cell_type": "code",
   "execution_count": null,
   "metadata": {},
   "outputs": [],
   "source": []
  },
  {
   "cell_type": "code",
   "execution_count": null,
   "metadata": {},
   "outputs": [],
   "source": []
  },
  {
   "cell_type": "code",
   "execution_count": null,
   "metadata": {},
   "outputs": [],
   "source": []
  },
  {
   "cell_type": "code",
   "execution_count": null,
   "metadata": {},
   "outputs": [],
   "source": []
  },
  {
   "cell_type": "code",
   "execution_count": null,
   "metadata": {},
   "outputs": [],
   "source": []
  },
  {
   "cell_type": "code",
   "execution_count": null,
   "metadata": {},
   "outputs": [],
   "source": []
  },
  {
   "cell_type": "code",
   "execution_count": null,
   "metadata": {},
   "outputs": [],
   "source": []
  },
  {
   "cell_type": "code",
   "execution_count": null,
   "metadata": {},
   "outputs": [],
   "source": []
  },
  {
   "cell_type": "code",
   "execution_count": null,
   "metadata": {},
   "outputs": [],
   "source": []
  },
  {
   "cell_type": "code",
   "execution_count": null,
   "metadata": {},
   "outputs": [],
   "source": []
  },
  {
   "cell_type": "code",
   "execution_count": null,
   "metadata": {},
   "outputs": [],
   "source": []
  },
  {
   "cell_type": "code",
   "execution_count": null,
   "metadata": {},
   "outputs": [],
   "source": []
  },
  {
   "cell_type": "code",
   "execution_count": null,
   "metadata": {},
   "outputs": [],
   "source": []
  },
  {
   "cell_type": "code",
   "execution_count": null,
   "metadata": {},
   "outputs": [],
   "source": []
  },
  {
   "cell_type": "code",
   "execution_count": null,
   "metadata": {},
   "outputs": [],
   "source": []
  },
  {
   "cell_type": "code",
   "execution_count": null,
   "metadata": {},
   "outputs": [],
   "source": []
  },
  {
   "cell_type": "code",
   "execution_count": null,
   "metadata": {},
   "outputs": [],
   "source": []
  },
  {
   "cell_type": "code",
   "execution_count": null,
   "metadata": {},
   "outputs": [],
   "source": []
  },
  {
   "cell_type": "code",
   "execution_count": null,
   "metadata": {},
   "outputs": [],
   "source": []
  },
  {
   "cell_type": "code",
   "execution_count": null,
   "metadata": {},
   "outputs": [],
   "source": []
  },
  {
   "cell_type": "code",
   "execution_count": null,
   "metadata": {},
   "outputs": [],
   "source": []
  },
  {
   "cell_type": "code",
   "execution_count": null,
   "metadata": {},
   "outputs": [],
   "source": []
  },
  {
   "cell_type": "code",
   "execution_count": null,
   "metadata": {},
   "outputs": [],
   "source": []
  },
  {
   "cell_type": "code",
   "execution_count": null,
   "metadata": {},
   "outputs": [],
   "source": []
  },
  {
   "cell_type": "code",
   "execution_count": null,
   "metadata": {},
   "outputs": [],
   "source": []
  },
  {
   "cell_type": "code",
   "execution_count": null,
   "metadata": {},
   "outputs": [],
   "source": []
  },
  {
   "cell_type": "code",
   "execution_count": null,
   "metadata": {},
   "outputs": [],
   "source": []
  },
  {
   "cell_type": "code",
   "execution_count": null,
   "metadata": {},
   "outputs": [],
   "source": []
  },
  {
   "cell_type": "markdown",
   "metadata": {},
   "source": [
    "------------------------------------------------------------------------------------------"
   ]
  },
  {
   "cell_type": "markdown",
   "metadata": {},
   "source": [
    "Resources:"
   ]
  },
  {
   "cell_type": "markdown",
   "metadata": {},
   "source": [
    "- https://seobutler.com/badass-seo-automate-screaming-frog/"
   ]
  },
  {
   "cell_type": "markdown",
   "metadata": {},
   "source": [
    "-----------------------------------------------------------------------------"
   ]
  }
 ],
 "metadata": {
  "kernelspec": {
   "display_name": "Python 3",
   "language": "python",
   "name": "python3"
  },
  "language_info": {
   "codemirror_mode": {
    "name": "ipython",
    "version": 3
   },
   "file_extension": ".py",
   "mimetype": "text/x-python",
   "name": "python",
   "nbconvert_exporter": "python",
   "pygments_lexer": "ipython3",
   "version": "3.7.6"
  }
 },
 "nbformat": 4,
 "nbformat_minor": 4
}
