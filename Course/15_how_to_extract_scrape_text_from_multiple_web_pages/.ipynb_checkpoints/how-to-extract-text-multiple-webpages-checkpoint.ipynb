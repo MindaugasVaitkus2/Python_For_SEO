{
 "cells": [
  {
   "cell_type": "markdown",
   "metadata": {},
   "source": [
    "# How To Extract The Text From Multiple Webpages In Python"
   ]
  },
  {
   "cell_type": "markdown",
   "metadata": {},
   "source": [
    "When you're doing content analysis at scale, it can be very useful in knowing how to automatically extract the text from multiple webpages."
   ]
  },
  {
   "cell_type": "markdown",
   "metadata": {},
   "source": [
    "-----------------------------------------------------------------"
   ]
  },
  {
   "cell_type": "code",
   "execution_count": null,
   "metadata": {},
   "outputs": [],
   "source": [
    "Firstly we'll "
   ]
  },
  {
   "cell_type": "code",
   "execution_count": 47,
   "metadata": {},
   "outputs": [],
   "source": [
    "class WebScraper(object):\n",
    "    def __init__(self, urls):\n",
    "        self.urls = urls\n",
    "        # Global Place To Store The Data:\n",
    "        self.all_data  = []\n",
    "        self.master_dict = {}\n",
    "        # Run The Scraper:\n",
    "        asyncio.run(self.main())\n",
    "\n",
    "    async def fetch(self, session, url):\n",
    "        try:\n",
    "            async with session.get(url) as response:\n",
    "                text = await response.text()\n",
    "                return text, url\n",
    "        except Exception as e:\n",
    "            print(str(e))\n",
    "\n",
    "    async def main(self):\n",
    "        tasks = []\n",
    "        headers = {\n",
    "            \"user-agent\": \"Mozilla/5.0 (compatible; Googlebot/2.1; +http://www.google.com/bot.html)\"}\n",
    "        async with aiohttp.ClientSession(headers=headers) as session:\n",
    "            for url in self.urls:\n",
    "                tasks.append(self.fetch(session, url))\n",
    "\n",
    "            htmls = await asyncio.gather(*tasks)\n",
    "            self.all_data.extend(htmls)\n",
    "\n",
    "            # Storing the raw HTML data.\n",
    "            for html in htmls:\n",
    "                if html is not None:\n",
    "                    url = html[1]\n",
    "                    self.master_dict[url] = {'Raw Html': html[0]}\n",
    "                else:\n",
    "                    continue\n"
   ]
  },
  {
   "cell_type": "code",
   "execution_count": 48,
   "metadata": {},
   "outputs": [],
   "source": [
    "# 1. Create a list of URLs for our scraper to get the data for:\n",
    "urls = ['https://understandingdata.com/', 'http://twitter.com/']"
   ]
  },
  {
   "cell_type": "code",
   "execution_count": 49,
   "metadata": {},
   "outputs": [],
   "source": [
    "# 2. Create the scraper class instance, this will automatically create a new event loop within the __init__ method:\n",
    "scraper = WebScraper(urls = urls)"
   ]
  },
  {
   "cell_type": "code",
   "execution_count": 50,
   "metadata": {},
   "outputs": [
    {
     "data": {
      "text/plain": [
       "2"
      ]
     },
     "execution_count": 50,
     "metadata": {},
     "output_type": "execute_result"
    }
   ],
   "source": [
    "# 3. Notice how we have a list length of 2:\n",
    "len(scraper.all_data)"
   ]
  },
  {
   "cell_type": "markdown",
   "metadata": {},
   "source": [
    "------------------------------------------------------------------------"
   ]
  }
 ],
 "metadata": {
  "kernelspec": {
   "display_name": "Python 3",
   "language": "python",
   "name": "python3"
  },
  "language_info": {
   "codemirror_mode": {
    "name": "ipython",
    "version": 3
   },
   "file_extension": ".py",
   "mimetype": "text/x-python",
   "name": "python",
   "nbconvert_exporter": "python",
   "pygments_lexer": "ipython3",
   "version": "3.7.9"
  }
 },
 "nbformat": 4,
 "nbformat_minor": 4
}
