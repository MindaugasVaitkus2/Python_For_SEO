{
 "cells": [
  {
   "cell_type": "markdown",
   "metadata": {},
   "source": [
    "# How To Extract The Text From Multiple Webpages In Python"
   ]
  },
  {
   "cell_type": "markdown",
   "metadata": {},
   "source": [
    "When you're doing content analysis at scale, it can be very useful in knowing how to automatically extract the text from multiple webpages."
   ]
  },
  {
   "cell_type": "markdown",
   "metadata": {},
   "source": [
    "-----------------------------------------------------------------"
   ]
  },
  {
   "cell_type": "code",
   "execution_count": 2,
   "metadata": {
    "collapsed": true
   },
   "outputs": [
    {
     "name": "stdout",
     "output_type": "stream",
     "text": [
      "Requirement already satisfied: requests in /opt/anaconda3/lib/python3.7/site-packages (2.24.0)\n",
      "Requirement already satisfied: certifi>=2017.4.17 in /opt/anaconda3/lib/python3.7/site-packages (from requests) (2020.6.20)\n",
      "Requirement already satisfied: chardet<4,>=3.0.2 in /opt/anaconda3/lib/python3.7/site-packages (from requests) (3.0.4)\n",
      "Requirement already satisfied: urllib3!=1.25.0,!=1.25.1,<1.26,>=1.21.1 in /opt/anaconda3/lib/python3.7/site-packages (from requests) (1.25.11)\n",
      "Requirement already satisfied: idna<3,>=2.5 in /Users/jamesaphoenix/.local/lib/python3.7/site-packages (from requests) (2.7)\n",
      "Requirement already satisfied: trafilatura in /opt/anaconda3/lib/python3.7/site-packages (0.6.0)\n",
      "Requirement already satisfied: justext>=2.2.0 in /opt/anaconda3/lib/python3.7/site-packages (from trafilatura) (2.2.0)\n",
      "Requirement already satisfied: lxml>=4.6.1; python_version > \"3.4\" in /opt/anaconda3/lib/python3.7/site-packages (from trafilatura) (4.6.1)\n",
      "Requirement already satisfied: htmldate>=0.7.2 in /opt/anaconda3/lib/python3.7/site-packages (from trafilatura) (0.7.2)\n",
      "Requirement already satisfied: readability-lxml>=0.8.1 in /opt/anaconda3/lib/python3.7/site-packages (from trafilatura) (0.8.1)\n",
      "Requirement already satisfied: courlan>=0.2.3 in /opt/anaconda3/lib/python3.7/site-packages (from trafilatura) (0.2.3)\n",
      "Requirement already satisfied: requests>=2.21.0; python_version > \"3.4\" in /opt/anaconda3/lib/python3.7/site-packages (from trafilatura) (2.24.0)\n",
      "Requirement already satisfied: python-dateutil>=2.8.1 in /opt/anaconda3/lib/python3.7/site-packages (from htmldate>=0.7.2->trafilatura) (2.8.1)\n",
      "Requirement already satisfied: chardet in /opt/anaconda3/lib/python3.7/site-packages (from readability-lxml>=0.8.1->trafilatura) (3.0.4)\n",
      "Requirement already satisfied: cssselect in /opt/anaconda3/lib/python3.7/site-packages (from readability-lxml>=0.8.1->trafilatura) (1.1.0)\n",
      "Requirement already satisfied: tldextract in /opt/anaconda3/lib/python3.7/site-packages (from courlan>=0.2.3->trafilatura) (2.2.2)\n",
      "Requirement already satisfied: urllib3!=1.25.0,!=1.25.1,<1.26,>=1.21.1 in /opt/anaconda3/lib/python3.7/site-packages (from requests>=2.21.0; python_version > \"3.4\"->trafilatura) (1.25.11)\n",
      "Requirement already satisfied: idna<3,>=2.5 in /Users/jamesaphoenix/.local/lib/python3.7/site-packages (from requests>=2.21.0; python_version > \"3.4\"->trafilatura) (2.7)\n",
      "Requirement already satisfied: certifi>=2017.4.17 in /opt/anaconda3/lib/python3.7/site-packages (from requests>=2.21.0; python_version > \"3.4\"->trafilatura) (2020.6.20)\n",
      "Requirement already satisfied: six>=1.5 in /opt/anaconda3/lib/python3.7/site-packages (from python-dateutil>=2.8.1->htmldate>=0.7.2->trafilatura) (1.15.0)\n",
      "Requirement already satisfied: setuptools in /opt/anaconda3/lib/python3.7/site-packages (from tldextract->courlan>=0.2.3->trafilatura) (50.3.0.post20201006)\n",
      "Requirement already satisfied: requests-file>=1.4 in /opt/anaconda3/lib/python3.7/site-packages (from tldextract->courlan>=0.2.3->trafilatura) (1.5.1)\n"
     ]
    }
   ],
   "source": [
    "!pip install requests\n",
    "!pip install trafilatura"
   ]
  },
  {
   "cell_type": "markdown",
   "metadata": {},
   "source": [
    "Firstly we'll break the problem down into several stages:\n",
    "\n",
    "1. Extract all of the HTML content using requests into a python dictionary.\n",
    "2. Pass every single HTML page to Trafilatura to parse the text content.\n",
    "3. Add error and exception handling so that if Trafilatura fails, we can still extract the content, albeit with a less accurate approach."
   ]
  },
  {
   "cell_type": "markdown",
   "metadata": {},
   "source": [
    "------------------------------------------------------------------------"
   ]
  },
  {
   "cell_type": "code",
   "execution_count": 3,
   "metadata": {},
   "outputs": [],
   "source": [
    "import requests\n",
    "import trafilatura"
   ]
  },
  {
   "cell_type": "markdown",
   "metadata": {},
   "source": [
    "## 1. Collect The HTML Content From The Website"
   ]
  },
  {
   "cell_type": "code",
   "execution_count": 6,
   "metadata": {},
   "outputs": [],
   "source": [
    "urls = ['https://understandingdata.com/',\n",
    "      'https://sempioneer.com/',]"
   ]
  },
  {
   "cell_type": "code",
   "execution_count": 11,
   "metadata": {},
   "outputs": [],
   "source": [
    "data = {}\n",
    "\n",
    "for url in urls:\n",
    "    # 1. Obtain the response:\n",
    "    resp = requests.get(url)\n",
    "    \n",
    "    # 2. If the response content is 200 - Status Ok, Save The HTML Content:\n",
    "    if resp.status_code == 200:\n",
    "        data[url] = resp.text"
   ]
  },
  {
   "cell_type": "markdown",
   "metadata": {},
   "source": [
    "------------------------------------------------------------"
   ]
  },
  {
   "cell_type": "markdown",
   "metadata": {},
   "source": [
    "## 2. Extract The Text From Multiple Webpages"
   ]
  },
  {
   "cell_type": "code",
   "execution_count": null,
   "metadata": {},
   "outputs": [],
   "source": []
  },
  {
   "cell_type": "code",
   "execution_count": null,
   "metadata": {},
   "outputs": [],
   "source": []
  }
 ],
 "metadata": {
  "kernelspec": {
   "display_name": "Python 3",
   "language": "python",
   "name": "python3"
  },
  "language_info": {
   "codemirror_mode": {
    "name": "ipython",
    "version": 3
   },
   "file_extension": ".py",
   "mimetype": "text/x-python",
   "name": "python",
   "nbconvert_exporter": "python",
   "pygments_lexer": "ipython3",
   "version": "3.7.9"
  }
 },
 "nbformat": 4,
 "nbformat_minor": 4
}
