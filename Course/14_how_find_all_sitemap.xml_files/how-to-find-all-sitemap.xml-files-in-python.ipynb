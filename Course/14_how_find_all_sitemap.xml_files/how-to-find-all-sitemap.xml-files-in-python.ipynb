{
 "cells": [
  {
   "cell_type": "markdown",
   "metadata": {},
   "source": [
    "# How To Easily Find All Of The Sitemap.xml Files In Python"
   ]
  },
  {
   "cell_type": "markdown",
   "metadata": {},
   "source": [
    "-----------------------------------------------------------------"
   ]
  },
  {
   "cell_type": "markdown",
   "metadata": {},
   "source": [
    "To effectively analyse websites, knowing <strong> how to download all of the [sitemap.xml files](https://en.wikipedia.org/wiki/Sitemaps) </strong> for a particular website is an incredibly useful skill.\n",
    "\n",
    "Forunately, there are [python packages](https://pypi.org/project/ultimate-sitemap-parser/) that allow us to easily download all of sitemap.xml file's with brute force!"
   ]
  },
  {
   "cell_type": "markdown",
   "metadata": {},
   "source": [
    "--------------------------------------------------------"
   ]
  },
  {
   "cell_type": "markdown",
   "metadata": {},
   "source": [
    "<strong> NB: If you're using a standard python environment, then simply exclude the ! symbol. The reason for using !pip install is because this guide is written in a jupyter notebook. </strong>"
   ]
  },
  {
   "cell_type": "code",
   "execution_count": 3,
   "metadata": {
    "collapsed": true
   },
   "outputs": [
    {
     "name": "stdout",
     "output_type": "stream",
     "text": [
      "Requirement already satisfied: ultimate-sitemap-parser in /opt/anaconda3/lib/python3.7/site-packages (0.5)\n",
      "Requirement already satisfied: requests>=2.2.1 in /opt/anaconda3/lib/python3.7/site-packages (from ultimate-sitemap-parser) (2.24.0)\n",
      "Requirement already satisfied: python-dateutil<3.0.0,>=2.1 in /opt/anaconda3/lib/python3.7/site-packages (from ultimate-sitemap-parser) (2.8.1)\n",
      "Requirement already satisfied: certifi>=2017.4.17 in /opt/anaconda3/lib/python3.7/site-packages (from requests>=2.2.1->ultimate-sitemap-parser) (2020.6.20)\n",
      "Requirement already satisfied: chardet<4,>=3.0.2 in /opt/anaconda3/lib/python3.7/site-packages (from requests>=2.2.1->ultimate-sitemap-parser) (3.0.4)\n",
      "Requirement already satisfied: urllib3!=1.25.0,!=1.25.1,<1.26,>=1.21.1 in /opt/anaconda3/lib/python3.7/site-packages (from requests>=2.2.1->ultimate-sitemap-parser) (1.25.11)\n",
      "Requirement already satisfied: idna<3,>=2.5 in /Users/jamesaphoenix/.local/lib/python3.7/site-packages (from requests>=2.2.1->ultimate-sitemap-parser) (2.7)\n",
      "Requirement already satisfied: six>=1.5 in /opt/anaconda3/lib/python3.7/site-packages (from python-dateutil<3.0.0,>=2.1->ultimate-sitemap-parser) (1.15.0)\n",
      "Requirement already satisfied: requests in /opt/anaconda3/lib/python3.7/site-packages (2.24.0)\n",
      "Requirement already satisfied: chardet<4,>=3.0.2 in /opt/anaconda3/lib/python3.7/site-packages (from requests) (3.0.4)\n",
      "Requirement already satisfied: idna<3,>=2.5 in /Users/jamesaphoenix/.local/lib/python3.7/site-packages (from requests) (2.7)\n",
      "Requirement already satisfied: certifi>=2017.4.17 in /opt/anaconda3/lib/python3.7/site-packages (from requests) (2020.6.20)\n",
      "Requirement already satisfied: urllib3!=1.25.0,!=1.25.1,<1.26,>=1.21.1 in /opt/anaconda3/lib/python3.7/site-packages (from requests) (1.25.11)\n"
     ]
    }
   ],
   "source": [
    "!pip install ultimate-sitemap-parser\n",
    "!pip install requests"
   ]
  },
  {
   "cell_type": "code",
   "execution_count": 5,
   "metadata": {},
   "outputs": [],
   "source": [
    "from usp.tree import sitemap_tree_for_homepage\n",
    "import requests"
   ]
  },
  {
   "cell_type": "markdown",
   "metadata": {},
   "source": [
    "--------------------------------------------------------"
   ]
  },
  {
   "cell_type": "markdown",
   "metadata": {},
   "source": [
    "## Download all of the Sitemap.xml files based upon the URL of the homepage:"
   ]
  },
  {
   "cell_type": "code",
   "execution_count": 6,
   "metadata": {
    "collapsed": true
   },
   "outputs": [
    {
     "name": "stderr",
     "output_type": "stream",
     "text": [
      "2020-12-10 09:05:10,683 INFO usp.fetch_parse [35788/MainThread]: Fetching level 0 sitemap from https://understandingdata.com/robots.txt...\n",
      "2020-12-10 09:05:10,684 INFO usp.helpers [35788/MainThread]: Fetching URL https://understandingdata.com/robots.txt...\n",
      "2020-12-10 09:05:10,820 INFO usp.fetch_parse [35788/MainThread]: Parsing sitemap from URL https://understandingdata.com/robots.txt...\n",
      "2020-12-10 09:05:10,822 INFO usp.fetch_parse [35788/MainThread]: Fetching level 0 sitemap from https://understandingdata.com/sitemap.xml...\n",
      "2020-12-10 09:05:10,822 INFO usp.helpers [35788/MainThread]: Fetching URL https://understandingdata.com/sitemap.xml...\n",
      "2020-12-10 09:05:11,277 INFO usp.fetch_parse [35788/MainThread]: Parsing sitemap from URL https://understandingdata.com/sitemap.xml...\n",
      "2020-12-10 09:05:11,286 INFO usp.fetch_parse [35788/MainThread]: Fetching level 0 sitemap from https://understandingdata.com/sitemap-index.xml...\n",
      "2020-12-10 09:05:11,287 INFO usp.helpers [35788/MainThread]: Fetching URL https://understandingdata.com/sitemap-index.xml...\n",
      "2020-12-10 09:05:11,805 WARNING usp.helpers [35788/MainThread]: Request for URL https://understandingdata.com/sitemap-index.xml failed: 404 Not Found\n",
      "2020-12-10 09:05:11,805 INFO usp.helpers [35788/MainThread]: Not retrying for URL https://understandingdata.com/sitemap-index.xml\n",
      "2020-12-10 09:05:11,806 INFO usp.fetch_parse [35788/MainThread]: Fetching level 0 sitemap from https://understandingdata.com/sitemap_index.xml.gz...\n",
      "2020-12-10 09:05:11,806 INFO usp.helpers [35788/MainThread]: Fetching URL https://understandingdata.com/sitemap_index.xml.gz...\n",
      "2020-12-10 09:05:12,297 ERROR usp.helpers [35788/MainThread]: Unable to gunzip response <usp.web_client.requests_client.RequestsWebClientSuccessResponse object at 0x7fd434c57fa0>, maybe it's a non-gzipped sitemap: Unable to gunzip data: Not a gzipped file (b'<?')\n",
      "2020-12-10 09:05:12,298 INFO usp.fetch_parse [35788/MainThread]: Parsing sitemap from URL https://understandingdata.com/sitemap_index.xml.gz...\n",
      "2020-12-10 09:05:12,308 INFO usp.fetch_parse [35788/MainThread]: Fetching level 0 sitemap from https://understandingdata.com/sitemap-index.xml.gz...\n",
      "2020-12-10 09:05:12,309 INFO usp.helpers [35788/MainThread]: Fetching URL https://understandingdata.com/sitemap-index.xml.gz...\n",
      "2020-12-10 09:05:12,781 WARNING usp.helpers [35788/MainThread]: Request for URL https://understandingdata.com/sitemap-index.xml.gz failed: 404 Not Found\n",
      "2020-12-10 09:05:12,782 INFO usp.helpers [35788/MainThread]: Not retrying for URL https://understandingdata.com/sitemap-index.xml.gz\n",
      "2020-12-10 09:05:12,782 INFO usp.fetch_parse [35788/MainThread]: Fetching level 0 sitemap from https://understandingdata.com/sitemap/sitemap-index.xml...\n",
      "2020-12-10 09:05:12,782 INFO usp.helpers [35788/MainThread]: Fetching URL https://understandingdata.com/sitemap/sitemap-index.xml...\n",
      "2020-12-10 09:05:13,323 WARNING usp.helpers [35788/MainThread]: Request for URL https://understandingdata.com/sitemap/sitemap-index.xml failed: 404 Not Found\n",
      "2020-12-10 09:05:13,324 INFO usp.helpers [35788/MainThread]: Not retrying for URL https://understandingdata.com/sitemap/sitemap-index.xml\n",
      "2020-12-10 09:05:13,325 INFO usp.fetch_parse [35788/MainThread]: Fetching level 0 sitemap from https://understandingdata.com/sitemap.xml.gz...\n",
      "2020-12-10 09:05:13,326 INFO usp.helpers [35788/MainThread]: Fetching URL https://understandingdata.com/sitemap.xml.gz...\n",
      "2020-12-10 09:05:13,781 ERROR usp.helpers [35788/MainThread]: Unable to gunzip response <usp.web_client.requests_client.RequestsWebClientSuccessResponse object at 0x7fd434c79410>, maybe it's a non-gzipped sitemap: Unable to gunzip data: Not a gzipped file (b'<?')\n",
      "2020-12-10 09:05:13,781 INFO usp.fetch_parse [35788/MainThread]: Parsing sitemap from URL https://understandingdata.com/sitemap.xml.gz...\n",
      "2020-12-10 09:05:13,786 INFO usp.fetch_parse [35788/MainThread]: Fetching level 0 sitemap from https://understandingdata.com/sitemap_index.xml...\n",
      "2020-12-10 09:05:13,787 INFO usp.helpers [35788/MainThread]: Fetching URL https://understandingdata.com/sitemap_index.xml...\n",
      "2020-12-10 09:05:14,208 INFO usp.fetch_parse [35788/MainThread]: Parsing sitemap from URL https://understandingdata.com/sitemap_index.xml...\n",
      "2020-12-10 09:05:14,214 INFO usp.fetch_parse [35788/MainThread]: Fetching level 0 sitemap from https://understandingdata.com/sitemap...\n",
      "2020-12-10 09:05:14,214 INFO usp.helpers [35788/MainThread]: Fetching URL https://understandingdata.com/sitemap...\n",
      "2020-12-10 09:05:14,665 WARNING usp.helpers [35788/MainThread]: Request for URL https://understandingdata.com/sitemap failed: 404 Not Found\n",
      "2020-12-10 09:05:14,666 INFO usp.helpers [35788/MainThread]: Not retrying for URL https://understandingdata.com/sitemap\n",
      "2020-12-10 09:05:14,666 INFO usp.fetch_parse [35788/MainThread]: Fetching level 0 sitemap from https://understandingdata.com/admin/config/search/xmlsitemap...\n",
      "2020-12-10 09:05:14,667 INFO usp.helpers [35788/MainThread]: Fetching URL https://understandingdata.com/admin/config/search/xmlsitemap...\n",
      "2020-12-10 09:05:15,148 WARNING usp.helpers [35788/MainThread]: Request for URL https://understandingdata.com/admin/config/search/xmlsitemap failed: 404 Not Found\n",
      "2020-12-10 09:05:15,149 INFO usp.helpers [35788/MainThread]: Not retrying for URL https://understandingdata.com/admin/config/search/xmlsitemap\n",
      "2020-12-10 09:05:15,150 INFO usp.fetch_parse [35788/MainThread]: Fetching level 0 sitemap from https://understandingdata.com/.sitemap.xml...\n",
      "2020-12-10 09:05:15,151 INFO usp.helpers [35788/MainThread]: Fetching URL https://understandingdata.com/.sitemap.xml...\n",
      "2020-12-10 09:05:15,642 WARNING usp.helpers [35788/MainThread]: Request for URL https://understandingdata.com/.sitemap.xml failed: 404 Not Found\n",
      "2020-12-10 09:05:15,643 INFO usp.helpers [35788/MainThread]: Not retrying for URL https://understandingdata.com/.sitemap.xml\n"
     ]
    },
    {
     "name": "stdout",
     "output_type": "stream",
     "text": [
      "IndexWebsiteSitemap(url=https://understandingdata.com/, sub_sitemaps=[IndexRobotsTxtSitemap(url=https://understandingdata.com/robots.txt, sub_sitemaps=[PagesXMLSitemap(url=https://understandingdata.com/sitemap.xml, pages=[SitemapPage(url=https://understandingdata.com/, priority=0.5, last_modified=2020-07-31 14:47:00+00:00, change_frequency=None, news_story=None), SitemapPage(url=https://understandingdata.com/privacy-policy/, priority=0.5, last_modified=2018-08-17 08:43:00+00:00, change_frequency=None, news_story=None), SitemapPage(url=https://understandingdata.com/contact/, priority=0.5, last_modified=2019-09-15 21:41:00+00:00, change_frequency=None, news_story=None), SitemapPage(url=https://understandingdata.com/blog/, priority=0.5, last_modified=2019-10-19 09:53:00+00:00, change_frequency=None, news_story=None), SitemapPage(url=https://understandingdata.com/data-engineering-services/, priority=0.5, last_modified=2020-05-25 20:44:00+00:00, change_frequency=None, news_story=None), SitemapPage(url=https://understandingdata.com/data-science-and-analytics-services/, priority=0.5, last_modified=2020-05-28 15:06:00+00:00, change_frequency=None, news_story=None), SitemapPage(url=https://understandingdata.com/digital-analytics-services/, priority=0.5, last_modified=2020-05-28 15:20:00+00:00, change_frequency=None, news_story=None), SitemapPage(url=https://understandingdata.com/web-scraping-services/, priority=0.5, last_modified=2020-05-28 15:16:00+00:00, change_frequency=None, news_story=None), SitemapPage(url=https://understandingdata.com/test-page-1-lol-haha/, priority=0.5, last_modified=2020-11-29 12:54:00+00:00, change_frequency=None, news_story=None), SitemapPage(url=https://understandingdata.com/how-to-hire-the-right-ai-consulting-firm/, priority=0.5, last_modified=2020-08-01 21:40:00+00:00, change_frequency=None, news_story=None), SitemapPage(url=https://understandingdata.com/machine-learning-use-cases-marketing/, priority=0.5, last_modified=2020-07-31 13:02:00+00:00, change_frequency=None, news_story=None), SitemapPage(url=https://understandingdata.com/how-to-avoid-being-blocked-web-scraping/, priority=0.5, last_modified=2020-07-31 14:52:00+00:00, change_frequency=None, news_story=None), SitemapPage(url=https://understandingdata.com/machine-learning-in-the-finance-industry/, priority=0.5, last_modified=2020-07-04 16:27:00+00:00, change_frequency=None, news_story=None), SitemapPage(url=https://understandingdata.com/list-of-python-assert-statements-for-unit-tests/, priority=0.5, last_modified=2020-07-04 16:29:00+00:00, change_frequency=None, news_story=None), SitemapPage(url=https://understandingdata.com/what-is-data-wrangling/, priority=0.5, last_modified=2020-07-04 16:27:00+00:00, change_frequency=None, news_story=None), SitemapPage(url=https://understandingdata.com/artificial-intelligence-advantages-and-disadvantages/, priority=0.5, last_modified=2020-07-04 16:28:00+00:00, change_frequency=None, news_story=None), SitemapPage(url=https://understandingdata.com/web-scraping-proxy-providers/, priority=0.5, last_modified=2020-09-06 14:47:00+00:00, change_frequency=None, news_story=None), SitemapPage(url=https://understandingdata.com/is-web-scraping-legal/, priority=0.5, last_modified=2020-07-04 16:28:00+00:00, change_frequency=None, news_story=None), SitemapPage(url=https://understandingdata.com/web-scraping-tools/, priority=0.5, last_modified=2020-09-08 18:49:00+00:00, change_frequency=None, news_story=None), SitemapPage(url=https://understandingdata.com/instagram-community-detection-with-machine-learning/, priority=0.5, last_modified=2020-07-04 16:30:00+00:00, change_frequency=None, news_story=None), SitemapPage(url=https://understandingdata.com/what-is-web-scraping/, priority=0.5, last_modified=2020-07-04 16:28:00+00:00, change_frequency=None, news_story=None), SitemapPage(url=https://understandingdata.com/install-google-chrome-selenium-ec2-aws/, priority=0.5, last_modified=2020-07-04 16:30:00+00:00, change_frequency=None, news_story=None), SitemapPage(url=https://understandingdata.com/how-to-install-anaconda-mac-os/, priority=0.5, last_modified=2020-07-04 16:30:00+00:00, change_frequency=None, news_story=None), SitemapPage(url=https://understandingdata.com/web-scraping-ninjaoutreach-at-scale/, priority=0.5, last_modified=2020-07-04 16:30:00+00:00, change_frequency=None, news_story=None), SitemapPage(url=https://understandingdata.com/the-advantages-disadvantages-of-web-scraping-data/, priority=0.5, last_modified=2020-07-04 16:29:00+00:00, change_frequency=None, news_story=None), SitemapPage(url=https://understandingdata.com/prospecting-local-seo-clients-python/, priority=0.5, last_modified=2020-07-04 16:30:00+00:00, change_frequency=None, news_story=None), SitemapPage(url=https://understandingdata.com/ahrefs-traffic-opportunity-analysis-python/, priority=0.5, last_modified=2020-11-10 11:01:00+00:00, change_frequency=None, news_story=None), SitemapPage(url=https://understandingdata.com/prospect-google-my-business-clients-with-python/, priority=0.5, last_modified=2020-07-04 16:31:00+00:00, change_frequency=None, news_story=None), SitemapPage(url=https://understandingdata.com/ctr-optimisation-with-machine-learning/, priority=0.5, last_modified=2020-07-04 16:31:00+00:00, change_frequency=None, news_story=None), SitemapPage(url=https://understandingdata.com/predicting-article-shares-with-machine-learning/, priority=0.5, last_modified=2020-07-04 16:32:00+00:00, change_frequency=None, news_story=None)])]), PagesXMLSitemap(url=https://understandingdata.com/sitemap_index.xml.gz, pages=[SitemapPage(url=https://understandingdata.com/, priority=0.5, last_modified=2020-07-31 14:47:00+00:00, change_frequency=None, news_story=None), SitemapPage(url=https://understandingdata.com/privacy-policy/, priority=0.5, last_modified=2018-08-17 08:43:00+00:00, change_frequency=None, news_story=None), SitemapPage(url=https://understandingdata.com/contact/, priority=0.5, last_modified=2019-09-15 21:41:00+00:00, change_frequency=None, news_story=None), SitemapPage(url=https://understandingdata.com/blog/, priority=0.5, last_modified=2019-10-19 09:53:00+00:00, change_frequency=None, news_story=None), SitemapPage(url=https://understandingdata.com/data-engineering-services/, priority=0.5, last_modified=2020-05-25 20:44:00+00:00, change_frequency=None, news_story=None), SitemapPage(url=https://understandingdata.com/data-science-and-analytics-services/, priority=0.5, last_modified=2020-05-28 15:06:00+00:00, change_frequency=None, news_story=None), SitemapPage(url=https://understandingdata.com/digital-analytics-services/, priority=0.5, last_modified=2020-05-28 15:20:00+00:00, change_frequency=None, news_story=None), SitemapPage(url=https://understandingdata.com/web-scraping-services/, priority=0.5, last_modified=2020-05-28 15:16:00+00:00, change_frequency=None, news_story=None), SitemapPage(url=https://understandingdata.com/test-page-1-lol-haha/, priority=0.5, last_modified=2020-11-29 12:54:00+00:00, change_frequency=None, news_story=None), SitemapPage(url=https://understandingdata.com/how-to-hire-the-right-ai-consulting-firm/, priority=0.5, last_modified=2020-08-01 21:40:00+00:00, change_frequency=None, news_story=None), SitemapPage(url=https://understandingdata.com/machine-learning-use-cases-marketing/, priority=0.5, last_modified=2020-07-31 13:02:00+00:00, change_frequency=None, news_story=None), SitemapPage(url=https://understandingdata.com/how-to-avoid-being-blocked-web-scraping/, priority=0.5, last_modified=2020-07-31 14:52:00+00:00, change_frequency=None, news_story=None), SitemapPage(url=https://understandingdata.com/machine-learning-in-the-finance-industry/, priority=0.5, last_modified=2020-07-04 16:27:00+00:00, change_frequency=None, news_story=None), SitemapPage(url=https://understandingdata.com/list-of-python-assert-statements-for-unit-tests/, priority=0.5, last_modified=2020-07-04 16:29:00+00:00, change_frequency=None, news_story=None), SitemapPage(url=https://understandingdata.com/what-is-data-wrangling/, priority=0.5, last_modified=2020-07-04 16:27:00+00:00, change_frequency=None, news_story=None), SitemapPage(url=https://understandingdata.com/artificial-intelligence-advantages-and-disadvantages/, priority=0.5, last_modified=2020-07-04 16:28:00+00:00, change_frequency=None, news_story=None), SitemapPage(url=https://understandingdata.com/web-scraping-proxy-providers/, priority=0.5, last_modified=2020-09-06 14:47:00+00:00, change_frequency=None, news_story=None), SitemapPage(url=https://understandingdata.com/is-web-scraping-legal/, priority=0.5, last_modified=2020-07-04 16:28:00+00:00, change_frequency=None, news_story=None), SitemapPage(url=https://understandingdata.com/web-scraping-tools/, priority=0.5, last_modified=2020-09-08 18:49:00+00:00, change_frequency=None, news_story=None), SitemapPage(url=https://understandingdata.com/instagram-community-detection-with-machine-learning/, priority=0.5, last_modified=2020-07-04 16:30:00+00:00, change_frequency=None, news_story=None), SitemapPage(url=https://understandingdata.com/what-is-web-scraping/, priority=0.5, last_modified=2020-07-04 16:28:00+00:00, change_frequency=None, news_story=None), SitemapPage(url=https://understandingdata.com/install-google-chrome-selenium-ec2-aws/, priority=0.5, last_modified=2020-07-04 16:30:00+00:00, change_frequency=None, news_story=None), SitemapPage(url=https://understandingdata.com/how-to-install-anaconda-mac-os/, priority=0.5, last_modified=2020-07-04 16:30:00+00:00, change_frequency=None, news_story=None), SitemapPage(url=https://understandingdata.com/web-scraping-ninjaoutreach-at-scale/, priority=0.5, last_modified=2020-07-04 16:30:00+00:00, change_frequency=None, news_story=None), SitemapPage(url=https://understandingdata.com/the-advantages-disadvantages-of-web-scraping-data/, priority=0.5, last_modified=2020-07-04 16:29:00+00:00, change_frequency=None, news_story=None), SitemapPage(url=https://understandingdata.com/prospecting-local-seo-clients-python/, priority=0.5, last_modified=2020-07-04 16:30:00+00:00, change_frequency=None, news_story=None), SitemapPage(url=https://understandingdata.com/ahrefs-traffic-opportunity-analysis-python/, priority=0.5, last_modified=2020-11-10 11:01:00+00:00, change_frequency=None, news_story=None), SitemapPage(url=https://understandingdata.com/prospect-google-my-business-clients-with-python/, priority=0.5, last_modified=2020-07-04 16:31:00+00:00, change_frequency=None, news_story=None), SitemapPage(url=https://understandingdata.com/ctr-optimisation-with-machine-learning/, priority=0.5, last_modified=2020-07-04 16:31:00+00:00, change_frequency=None, news_story=None), SitemapPage(url=https://understandingdata.com/predicting-article-shares-with-machine-learning/, priority=0.5, last_modified=2020-07-04 16:32:00+00:00, change_frequency=None, news_story=None)]), PagesXMLSitemap(url=https://understandingdata.com/sitemap.xml.gz, pages=[SitemapPage(url=https://understandingdata.com/, priority=0.5, last_modified=2020-07-31 14:47:00+00:00, change_frequency=None, news_story=None), SitemapPage(url=https://understandingdata.com/privacy-policy/, priority=0.5, last_modified=2018-08-17 08:43:00+00:00, change_frequency=None, news_story=None), SitemapPage(url=https://understandingdata.com/contact/, priority=0.5, last_modified=2019-09-15 21:41:00+00:00, change_frequency=None, news_story=None), SitemapPage(url=https://understandingdata.com/blog/, priority=0.5, last_modified=2019-10-19 09:53:00+00:00, change_frequency=None, news_story=None), SitemapPage(url=https://understandingdata.com/data-engineering-services/, priority=0.5, last_modified=2020-05-25 20:44:00+00:00, change_frequency=None, news_story=None), SitemapPage(url=https://understandingdata.com/data-science-and-analytics-services/, priority=0.5, last_modified=2020-05-28 15:06:00+00:00, change_frequency=None, news_story=None), SitemapPage(url=https://understandingdata.com/digital-analytics-services/, priority=0.5, last_modified=2020-05-28 15:20:00+00:00, change_frequency=None, news_story=None), SitemapPage(url=https://understandingdata.com/web-scraping-services/, priority=0.5, last_modified=2020-05-28 15:16:00+00:00, change_frequency=None, news_story=None), SitemapPage(url=https://understandingdata.com/test-page-1-lol-haha/, priority=0.5, last_modified=2020-11-29 12:54:00+00:00, change_frequency=None, news_story=None), SitemapPage(url=https://understandingdata.com/how-to-hire-the-right-ai-consulting-firm/, priority=0.5, last_modified=2020-08-01 21:40:00+00:00, change_frequency=None, news_story=None), SitemapPage(url=https://understandingdata.com/machine-learning-use-cases-marketing/, priority=0.5, last_modified=2020-07-31 13:02:00+00:00, change_frequency=None, news_story=None), SitemapPage(url=https://understandingdata.com/how-to-avoid-being-blocked-web-scraping/, priority=0.5, last_modified=2020-07-31 14:52:00+00:00, change_frequency=None, news_story=None), SitemapPage(url=https://understandingdata.com/machine-learning-in-the-finance-industry/, priority=0.5, last_modified=2020-07-04 16:27:00+00:00, change_frequency=None, news_story=None), SitemapPage(url=https://understandingdata.com/list-of-python-assert-statements-for-unit-tests/, priority=0.5, last_modified=2020-07-04 16:29:00+00:00, change_frequency=None, news_story=None), SitemapPage(url=https://understandingdata.com/what-is-data-wrangling/, priority=0.5, last_modified=2020-07-04 16:27:00+00:00, change_frequency=None, news_story=None), SitemapPage(url=https://understandingdata.com/artificial-intelligence-advantages-and-disadvantages/, priority=0.5, last_modified=2020-07-04 16:28:00+00:00, change_frequency=None, news_story=None), SitemapPage(url=https://understandingdata.com/web-scraping-proxy-providers/, priority=0.5, last_modified=2020-09-06 14:47:00+00:00, change_frequency=None, news_story=None), SitemapPage(url=https://understandingdata.com/is-web-scraping-legal/, priority=0.5, last_modified=2020-07-04 16:28:00+00:00, change_frequency=None, news_story=None), SitemapPage(url=https://understandingdata.com/web-scraping-tools/, priority=0.5, last_modified=2020-09-08 18:49:00+00:00, change_frequency=None, news_story=None), SitemapPage(url=https://understandingdata.com/instagram-community-detection-with-machine-learning/, priority=0.5, last_modified=2020-07-04 16:30:00+00:00, change_frequency=None, news_story=None), SitemapPage(url=https://understandingdata.com/what-is-web-scraping/, priority=0.5, last_modified=2020-07-04 16:28:00+00:00, change_frequency=None, news_story=None), SitemapPage(url=https://understandingdata.com/install-google-chrome-selenium-ec2-aws/, priority=0.5, last_modified=2020-07-04 16:30:00+00:00, change_frequency=None, news_story=None), SitemapPage(url=https://understandingdata.com/how-to-install-anaconda-mac-os/, priority=0.5, last_modified=2020-07-04 16:30:00+00:00, change_frequency=None, news_story=None), SitemapPage(url=https://understandingdata.com/web-scraping-ninjaoutreach-at-scale/, priority=0.5, last_modified=2020-07-04 16:30:00+00:00, change_frequency=None, news_story=None), SitemapPage(url=https://understandingdata.com/the-advantages-disadvantages-of-web-scraping-data/, priority=0.5, last_modified=2020-07-04 16:29:00+00:00, change_frequency=None, news_story=None), SitemapPage(url=https://understandingdata.com/prospecting-local-seo-clients-python/, priority=0.5, last_modified=2020-07-04 16:30:00+00:00, change_frequency=None, news_story=None), SitemapPage(url=https://understandingdata.com/ahrefs-traffic-opportunity-analysis-python/, priority=0.5, last_modified=2020-11-10 11:01:00+00:00, change_frequency=None, news_story=None), SitemapPage(url=https://understandingdata.com/prospect-google-my-business-clients-with-python/, priority=0.5, last_modified=2020-07-04 16:31:00+00:00, change_frequency=None, news_story=None), SitemapPage(url=https://understandingdata.com/ctr-optimisation-with-machine-learning/, priority=0.5, last_modified=2020-07-04 16:31:00+00:00, change_frequency=None, news_story=None), SitemapPage(url=https://understandingdata.com/predicting-article-shares-with-machine-learning/, priority=0.5, last_modified=2020-07-04 16:32:00+00:00, change_frequency=None, news_story=None)]), PagesXMLSitemap(url=https://understandingdata.com/sitemap_index.xml, pages=[SitemapPage(url=https://understandingdata.com/, priority=0.5, last_modified=2020-07-31 14:47:00+00:00, change_frequency=None, news_story=None), SitemapPage(url=https://understandingdata.com/privacy-policy/, priority=0.5, last_modified=2018-08-17 08:43:00+00:00, change_frequency=None, news_story=None), SitemapPage(url=https://understandingdata.com/contact/, priority=0.5, last_modified=2019-09-15 21:41:00+00:00, change_frequency=None, news_story=None), SitemapPage(url=https://understandingdata.com/blog/, priority=0.5, last_modified=2019-10-19 09:53:00+00:00, change_frequency=None, news_story=None), SitemapPage(url=https://understandingdata.com/data-engineering-services/, priority=0.5, last_modified=2020-05-25 20:44:00+00:00, change_frequency=None, news_story=None), SitemapPage(url=https://understandingdata.com/data-science-and-analytics-services/, priority=0.5, last_modified=2020-05-28 15:06:00+00:00, change_frequency=None, news_story=None), SitemapPage(url=https://understandingdata.com/digital-analytics-services/, priority=0.5, last_modified=2020-05-28 15:20:00+00:00, change_frequency=None, news_story=None), SitemapPage(url=https://understandingdata.com/web-scraping-services/, priority=0.5, last_modified=2020-05-28 15:16:00+00:00, change_frequency=None, news_story=None), SitemapPage(url=https://understandingdata.com/test-page-1-lol-haha/, priority=0.5, last_modified=2020-11-29 12:54:00+00:00, change_frequency=None, news_story=None), SitemapPage(url=https://understandingdata.com/how-to-hire-the-right-ai-consulting-firm/, priority=0.5, last_modified=2020-08-01 21:40:00+00:00, change_frequency=None, news_story=None), SitemapPage(url=https://understandingdata.com/machine-learning-use-cases-marketing/, priority=0.5, last_modified=2020-07-31 13:02:00+00:00, change_frequency=None, news_story=None), SitemapPage(url=https://understandingdata.com/how-to-avoid-being-blocked-web-scraping/, priority=0.5, last_modified=2020-07-31 14:52:00+00:00, change_frequency=None, news_story=None), SitemapPage(url=https://understandingdata.com/machine-learning-in-the-finance-industry/, priority=0.5, last_modified=2020-07-04 16:27:00+00:00, change_frequency=None, news_story=None), SitemapPage(url=https://understandingdata.com/list-of-python-assert-statements-for-unit-tests/, priority=0.5, last_modified=2020-07-04 16:29:00+00:00, change_frequency=None, news_story=None), SitemapPage(url=https://understandingdata.com/what-is-data-wrangling/, priority=0.5, last_modified=2020-07-04 16:27:00+00:00, change_frequency=None, news_story=None), SitemapPage(url=https://understandingdata.com/artificial-intelligence-advantages-and-disadvantages/, priority=0.5, last_modified=2020-07-04 16:28:00+00:00, change_frequency=None, news_story=None), SitemapPage(url=https://understandingdata.com/web-scraping-proxy-providers/, priority=0.5, last_modified=2020-09-06 14:47:00+00:00, change_frequency=None, news_story=None), SitemapPage(url=https://understandingdata.com/is-web-scraping-legal/, priority=0.5, last_modified=2020-07-04 16:28:00+00:00, change_frequency=None, news_story=None), SitemapPage(url=https://understandingdata.com/web-scraping-tools/, priority=0.5, last_modified=2020-09-08 18:49:00+00:00, change_frequency=None, news_story=None), SitemapPage(url=https://understandingdata.com/instagram-community-detection-with-machine-learning/, priority=0.5, last_modified=2020-07-04 16:30:00+00:00, change_frequency=None, news_story=None), SitemapPage(url=https://understandingdata.com/what-is-web-scraping/, priority=0.5, last_modified=2020-07-04 16:28:00+00:00, change_frequency=None, news_story=None), SitemapPage(url=https://understandingdata.com/install-google-chrome-selenium-ec2-aws/, priority=0.5, last_modified=2020-07-04 16:30:00+00:00, change_frequency=None, news_story=None), SitemapPage(url=https://understandingdata.com/how-to-install-anaconda-mac-os/, priority=0.5, last_modified=2020-07-04 16:30:00+00:00, change_frequency=None, news_story=None), SitemapPage(url=https://understandingdata.com/web-scraping-ninjaoutreach-at-scale/, priority=0.5, last_modified=2020-07-04 16:30:00+00:00, change_frequency=None, news_story=None), SitemapPage(url=https://understandingdata.com/the-advantages-disadvantages-of-web-scraping-data/, priority=0.5, last_modified=2020-07-04 16:29:00+00:00, change_frequency=None, news_story=None), SitemapPage(url=https://understandingdata.com/prospecting-local-seo-clients-python/, priority=0.5, last_modified=2020-07-04 16:30:00+00:00, change_frequency=None, news_story=None), SitemapPage(url=https://understandingdata.com/ahrefs-traffic-opportunity-analysis-python/, priority=0.5, last_modified=2020-11-10 11:01:00+00:00, change_frequency=None, news_story=None), SitemapPage(url=https://understandingdata.com/prospect-google-my-business-clients-with-python/, priority=0.5, last_modified=2020-07-04 16:31:00+00:00, change_frequency=None, news_story=None), SitemapPage(url=https://understandingdata.com/ctr-optimisation-with-machine-learning/, priority=0.5, last_modified=2020-07-04 16:31:00+00:00, change_frequency=None, news_story=None), SitemapPage(url=https://understandingdata.com/predicting-article-shares-with-machine-learning/, priority=0.5, last_modified=2020-07-04 16:32:00+00:00, change_frequency=None, news_story=None)])])\n"
     ]
    }
   ],
   "source": [
    "tree = sitemap_tree_for_homepage('https://understandingdata.com/')\n",
    "print(tree)"
   ]
  },
  {
   "cell_type": "markdown",
   "metadata": {},
   "source": [
    "After running the following method, we've used brute force to find all of the sitemap files and have saved them to a variable called tree:\n",
    "~~~\n",
    "tree = sitemap_tree_for_homepage('https://homepageurl.com')\n",
    "\n",
    "~~~\n",
    "\n",
    "----\n",
    "\n",
    "sitemap_tree_for_homepage() returns a tree of AbstractSitemap subclass objects that represent the sitemap hierarchy found on a given website."
   ]
  },
  {
   "cell_type": "markdown",
   "metadata": {},
   "source": [
    "To find all of the pages we can simply do this:"
   ]
  },
  {
   "cell_type": "code",
   "execution_count": 10,
   "metadata": {
    "collapsed": true
   },
   "outputs": [
    {
     "name": "stdout",
     "output_type": "stream",
     "text": [
      "SitemapPage(url=https://understandingdata.com/, priority=0.5, last_modified=2020-07-31 14:47:00+00:00, change_frequency=None, news_story=None)\n",
      "SitemapPage(url=https://understandingdata.com/privacy-policy/, priority=0.5, last_modified=2018-08-17 08:43:00+00:00, change_frequency=None, news_story=None)\n",
      "SitemapPage(url=https://understandingdata.com/contact/, priority=0.5, last_modified=2019-09-15 21:41:00+00:00, change_frequency=None, news_story=None)\n",
      "SitemapPage(url=https://understandingdata.com/blog/, priority=0.5, last_modified=2019-10-19 09:53:00+00:00, change_frequency=None, news_story=None)\n",
      "SitemapPage(url=https://understandingdata.com/data-engineering-services/, priority=0.5, last_modified=2020-05-25 20:44:00+00:00, change_frequency=None, news_story=None)\n",
      "SitemapPage(url=https://understandingdata.com/data-science-and-analytics-services/, priority=0.5, last_modified=2020-05-28 15:06:00+00:00, change_frequency=None, news_story=None)\n",
      "SitemapPage(url=https://understandingdata.com/digital-analytics-services/, priority=0.5, last_modified=2020-05-28 15:20:00+00:00, change_frequency=None, news_story=None)\n",
      "SitemapPage(url=https://understandingdata.com/web-scraping-services/, priority=0.5, last_modified=2020-05-28 15:16:00+00:00, change_frequency=None, news_story=None)\n",
      "SitemapPage(url=https://understandingdata.com/test-page-1-lol-haha/, priority=0.5, last_modified=2020-11-29 12:54:00+00:00, change_frequency=None, news_story=None)\n",
      "SitemapPage(url=https://understandingdata.com/how-to-hire-the-right-ai-consulting-firm/, priority=0.5, last_modified=2020-08-01 21:40:00+00:00, change_frequency=None, news_story=None)\n",
      "SitemapPage(url=https://understandingdata.com/machine-learning-use-cases-marketing/, priority=0.5, last_modified=2020-07-31 13:02:00+00:00, change_frequency=None, news_story=None)\n",
      "SitemapPage(url=https://understandingdata.com/how-to-avoid-being-blocked-web-scraping/, priority=0.5, last_modified=2020-07-31 14:52:00+00:00, change_frequency=None, news_story=None)\n",
      "SitemapPage(url=https://understandingdata.com/machine-learning-in-the-finance-industry/, priority=0.5, last_modified=2020-07-04 16:27:00+00:00, change_frequency=None, news_story=None)\n",
      "SitemapPage(url=https://understandingdata.com/list-of-python-assert-statements-for-unit-tests/, priority=0.5, last_modified=2020-07-04 16:29:00+00:00, change_frequency=None, news_story=None)\n",
      "SitemapPage(url=https://understandingdata.com/what-is-data-wrangling/, priority=0.5, last_modified=2020-07-04 16:27:00+00:00, change_frequency=None, news_story=None)\n",
      "SitemapPage(url=https://understandingdata.com/artificial-intelligence-advantages-and-disadvantages/, priority=0.5, last_modified=2020-07-04 16:28:00+00:00, change_frequency=None, news_story=None)\n",
      "SitemapPage(url=https://understandingdata.com/web-scraping-proxy-providers/, priority=0.5, last_modified=2020-09-06 14:47:00+00:00, change_frequency=None, news_story=None)\n",
      "SitemapPage(url=https://understandingdata.com/is-web-scraping-legal/, priority=0.5, last_modified=2020-07-04 16:28:00+00:00, change_frequency=None, news_story=None)\n",
      "SitemapPage(url=https://understandingdata.com/web-scraping-tools/, priority=0.5, last_modified=2020-09-08 18:49:00+00:00, change_frequency=None, news_story=None)\n",
      "SitemapPage(url=https://understandingdata.com/instagram-community-detection-with-machine-learning/, priority=0.5, last_modified=2020-07-04 16:30:00+00:00, change_frequency=None, news_story=None)\n",
      "SitemapPage(url=https://understandingdata.com/what-is-web-scraping/, priority=0.5, last_modified=2020-07-04 16:28:00+00:00, change_frequency=None, news_story=None)\n",
      "SitemapPage(url=https://understandingdata.com/install-google-chrome-selenium-ec2-aws/, priority=0.5, last_modified=2020-07-04 16:30:00+00:00, change_frequency=None, news_story=None)\n",
      "SitemapPage(url=https://understandingdata.com/how-to-install-anaconda-mac-os/, priority=0.5, last_modified=2020-07-04 16:30:00+00:00, change_frequency=None, news_story=None)\n",
      "SitemapPage(url=https://understandingdata.com/web-scraping-ninjaoutreach-at-scale/, priority=0.5, last_modified=2020-07-04 16:30:00+00:00, change_frequency=None, news_story=None)\n",
      "SitemapPage(url=https://understandingdata.com/the-advantages-disadvantages-of-web-scraping-data/, priority=0.5, last_modified=2020-07-04 16:29:00+00:00, change_frequency=None, news_story=None)\n",
      "SitemapPage(url=https://understandingdata.com/prospecting-local-seo-clients-python/, priority=0.5, last_modified=2020-07-04 16:30:00+00:00, change_frequency=None, news_story=None)\n",
      "SitemapPage(url=https://understandingdata.com/ahrefs-traffic-opportunity-analysis-python/, priority=0.5, last_modified=2020-11-10 11:01:00+00:00, change_frequency=None, news_story=None)\n",
      "SitemapPage(url=https://understandingdata.com/prospect-google-my-business-clients-with-python/, priority=0.5, last_modified=2020-07-04 16:31:00+00:00, change_frequency=None, news_story=None)\n",
      "SitemapPage(url=https://understandingdata.com/ctr-optimisation-with-machine-learning/, priority=0.5, last_modified=2020-07-04 16:31:00+00:00, change_frequency=None, news_story=None)\n",
      "SitemapPage(url=https://understandingdata.com/predicting-article-shares-with-machine-learning/, priority=0.5, last_modified=2020-07-04 16:32:00+00:00, change_frequency=None, news_story=None)\n",
      "SitemapPage(url=https://understandingdata.com/, priority=0.5, last_modified=2020-07-31 14:47:00+00:00, change_frequency=None, news_story=None)\n",
      "SitemapPage(url=https://understandingdata.com/privacy-policy/, priority=0.5, last_modified=2018-08-17 08:43:00+00:00, change_frequency=None, news_story=None)\n",
      "SitemapPage(url=https://understandingdata.com/contact/, priority=0.5, last_modified=2019-09-15 21:41:00+00:00, change_frequency=None, news_story=None)\n",
      "SitemapPage(url=https://understandingdata.com/blog/, priority=0.5, last_modified=2019-10-19 09:53:00+00:00, change_frequency=None, news_story=None)\n",
      "SitemapPage(url=https://understandingdata.com/data-engineering-services/, priority=0.5, last_modified=2020-05-25 20:44:00+00:00, change_frequency=None, news_story=None)\n",
      "SitemapPage(url=https://understandingdata.com/data-science-and-analytics-services/, priority=0.5, last_modified=2020-05-28 15:06:00+00:00, change_frequency=None, news_story=None)\n",
      "SitemapPage(url=https://understandingdata.com/digital-analytics-services/, priority=0.5, last_modified=2020-05-28 15:20:00+00:00, change_frequency=None, news_story=None)\n",
      "SitemapPage(url=https://understandingdata.com/web-scraping-services/, priority=0.5, last_modified=2020-05-28 15:16:00+00:00, change_frequency=None, news_story=None)\n",
      "SitemapPage(url=https://understandingdata.com/test-page-1-lol-haha/, priority=0.5, last_modified=2020-11-29 12:54:00+00:00, change_frequency=None, news_story=None)\n",
      "SitemapPage(url=https://understandingdata.com/how-to-hire-the-right-ai-consulting-firm/, priority=0.5, last_modified=2020-08-01 21:40:00+00:00, change_frequency=None, news_story=None)\n",
      "SitemapPage(url=https://understandingdata.com/machine-learning-use-cases-marketing/, priority=0.5, last_modified=2020-07-31 13:02:00+00:00, change_frequency=None, news_story=None)\n",
      "SitemapPage(url=https://understandingdata.com/how-to-avoid-being-blocked-web-scraping/, priority=0.5, last_modified=2020-07-31 14:52:00+00:00, change_frequency=None, news_story=None)\n",
      "SitemapPage(url=https://understandingdata.com/machine-learning-in-the-finance-industry/, priority=0.5, last_modified=2020-07-04 16:27:00+00:00, change_frequency=None, news_story=None)\n",
      "SitemapPage(url=https://understandingdata.com/list-of-python-assert-statements-for-unit-tests/, priority=0.5, last_modified=2020-07-04 16:29:00+00:00, change_frequency=None, news_story=None)\n",
      "SitemapPage(url=https://understandingdata.com/what-is-data-wrangling/, priority=0.5, last_modified=2020-07-04 16:27:00+00:00, change_frequency=None, news_story=None)\n",
      "SitemapPage(url=https://understandingdata.com/artificial-intelligence-advantages-and-disadvantages/, priority=0.5, last_modified=2020-07-04 16:28:00+00:00, change_frequency=None, news_story=None)\n",
      "SitemapPage(url=https://understandingdata.com/web-scraping-proxy-providers/, priority=0.5, last_modified=2020-09-06 14:47:00+00:00, change_frequency=None, news_story=None)\n",
      "SitemapPage(url=https://understandingdata.com/is-web-scraping-legal/, priority=0.5, last_modified=2020-07-04 16:28:00+00:00, change_frequency=None, news_story=None)\n",
      "SitemapPage(url=https://understandingdata.com/web-scraping-tools/, priority=0.5, last_modified=2020-09-08 18:49:00+00:00, change_frequency=None, news_story=None)\n",
      "SitemapPage(url=https://understandingdata.com/instagram-community-detection-with-machine-learning/, priority=0.5, last_modified=2020-07-04 16:30:00+00:00, change_frequency=None, news_story=None)\n",
      "SitemapPage(url=https://understandingdata.com/what-is-web-scraping/, priority=0.5, last_modified=2020-07-04 16:28:00+00:00, change_frequency=None, news_story=None)\n",
      "SitemapPage(url=https://understandingdata.com/install-google-chrome-selenium-ec2-aws/, priority=0.5, last_modified=2020-07-04 16:30:00+00:00, change_frequency=None, news_story=None)\n",
      "SitemapPage(url=https://understandingdata.com/how-to-install-anaconda-mac-os/, priority=0.5, last_modified=2020-07-04 16:30:00+00:00, change_frequency=None, news_story=None)\n",
      "SitemapPage(url=https://understandingdata.com/web-scraping-ninjaoutreach-at-scale/, priority=0.5, last_modified=2020-07-04 16:30:00+00:00, change_frequency=None, news_story=None)\n",
      "SitemapPage(url=https://understandingdata.com/the-advantages-disadvantages-of-web-scraping-data/, priority=0.5, last_modified=2020-07-04 16:29:00+00:00, change_frequency=None, news_story=None)\n",
      "SitemapPage(url=https://understandingdata.com/prospecting-local-seo-clients-python/, priority=0.5, last_modified=2020-07-04 16:30:00+00:00, change_frequency=None, news_story=None)\n",
      "SitemapPage(url=https://understandingdata.com/ahrefs-traffic-opportunity-analysis-python/, priority=0.5, last_modified=2020-11-10 11:01:00+00:00, change_frequency=None, news_story=None)\n",
      "SitemapPage(url=https://understandingdata.com/prospect-google-my-business-clients-with-python/, priority=0.5, last_modified=2020-07-04 16:31:00+00:00, change_frequency=None, news_story=None)\n",
      "SitemapPage(url=https://understandingdata.com/ctr-optimisation-with-machine-learning/, priority=0.5, last_modified=2020-07-04 16:31:00+00:00, change_frequency=None, news_story=None)\n",
      "SitemapPage(url=https://understandingdata.com/predicting-article-shares-with-machine-learning/, priority=0.5, last_modified=2020-07-04 16:32:00+00:00, change_frequency=None, news_story=None)\n",
      "SitemapPage(url=https://understandingdata.com/, priority=0.5, last_modified=2020-07-31 14:47:00+00:00, change_frequency=None, news_story=None)\n",
      "SitemapPage(url=https://understandingdata.com/privacy-policy/, priority=0.5, last_modified=2018-08-17 08:43:00+00:00, change_frequency=None, news_story=None)\n",
      "SitemapPage(url=https://understandingdata.com/contact/, priority=0.5, last_modified=2019-09-15 21:41:00+00:00, change_frequency=None, news_story=None)\n",
      "SitemapPage(url=https://understandingdata.com/blog/, priority=0.5, last_modified=2019-10-19 09:53:00+00:00, change_frequency=None, news_story=None)\n",
      "SitemapPage(url=https://understandingdata.com/data-engineering-services/, priority=0.5, last_modified=2020-05-25 20:44:00+00:00, change_frequency=None, news_story=None)\n",
      "SitemapPage(url=https://understandingdata.com/data-science-and-analytics-services/, priority=0.5, last_modified=2020-05-28 15:06:00+00:00, change_frequency=None, news_story=None)\n",
      "SitemapPage(url=https://understandingdata.com/digital-analytics-services/, priority=0.5, last_modified=2020-05-28 15:20:00+00:00, change_frequency=None, news_story=None)\n",
      "SitemapPage(url=https://understandingdata.com/web-scraping-services/, priority=0.5, last_modified=2020-05-28 15:16:00+00:00, change_frequency=None, news_story=None)\n",
      "SitemapPage(url=https://understandingdata.com/test-page-1-lol-haha/, priority=0.5, last_modified=2020-11-29 12:54:00+00:00, change_frequency=None, news_story=None)\n",
      "SitemapPage(url=https://understandingdata.com/how-to-hire-the-right-ai-consulting-firm/, priority=0.5, last_modified=2020-08-01 21:40:00+00:00, change_frequency=None, news_story=None)\n",
      "SitemapPage(url=https://understandingdata.com/machine-learning-use-cases-marketing/, priority=0.5, last_modified=2020-07-31 13:02:00+00:00, change_frequency=None, news_story=None)\n",
      "SitemapPage(url=https://understandingdata.com/how-to-avoid-being-blocked-web-scraping/, priority=0.5, last_modified=2020-07-31 14:52:00+00:00, change_frequency=None, news_story=None)\n",
      "SitemapPage(url=https://understandingdata.com/machine-learning-in-the-finance-industry/, priority=0.5, last_modified=2020-07-04 16:27:00+00:00, change_frequency=None, news_story=None)\n",
      "SitemapPage(url=https://understandingdata.com/list-of-python-assert-statements-for-unit-tests/, priority=0.5, last_modified=2020-07-04 16:29:00+00:00, change_frequency=None, news_story=None)\n",
      "SitemapPage(url=https://understandingdata.com/what-is-data-wrangling/, priority=0.5, last_modified=2020-07-04 16:27:00+00:00, change_frequency=None, news_story=None)\n",
      "SitemapPage(url=https://understandingdata.com/artificial-intelligence-advantages-and-disadvantages/, priority=0.5, last_modified=2020-07-04 16:28:00+00:00, change_frequency=None, news_story=None)\n",
      "SitemapPage(url=https://understandingdata.com/web-scraping-proxy-providers/, priority=0.5, last_modified=2020-09-06 14:47:00+00:00, change_frequency=None, news_story=None)\n",
      "SitemapPage(url=https://understandingdata.com/is-web-scraping-legal/, priority=0.5, last_modified=2020-07-04 16:28:00+00:00, change_frequency=None, news_story=None)\n",
      "SitemapPage(url=https://understandingdata.com/web-scraping-tools/, priority=0.5, last_modified=2020-09-08 18:49:00+00:00, change_frequency=None, news_story=None)\n",
      "SitemapPage(url=https://understandingdata.com/instagram-community-detection-with-machine-learning/, priority=0.5, last_modified=2020-07-04 16:30:00+00:00, change_frequency=None, news_story=None)\n",
      "SitemapPage(url=https://understandingdata.com/what-is-web-scraping/, priority=0.5, last_modified=2020-07-04 16:28:00+00:00, change_frequency=None, news_story=None)\n",
      "SitemapPage(url=https://understandingdata.com/install-google-chrome-selenium-ec2-aws/, priority=0.5, last_modified=2020-07-04 16:30:00+00:00, change_frequency=None, news_story=None)\n",
      "SitemapPage(url=https://understandingdata.com/how-to-install-anaconda-mac-os/, priority=0.5, last_modified=2020-07-04 16:30:00+00:00, change_frequency=None, news_story=None)\n",
      "SitemapPage(url=https://understandingdata.com/web-scraping-ninjaoutreach-at-scale/, priority=0.5, last_modified=2020-07-04 16:30:00+00:00, change_frequency=None, news_story=None)\n",
      "SitemapPage(url=https://understandingdata.com/the-advantages-disadvantages-of-web-scraping-data/, priority=0.5, last_modified=2020-07-04 16:29:00+00:00, change_frequency=None, news_story=None)\n",
      "SitemapPage(url=https://understandingdata.com/prospecting-local-seo-clients-python/, priority=0.5, last_modified=2020-07-04 16:30:00+00:00, change_frequency=None, news_story=None)\n",
      "SitemapPage(url=https://understandingdata.com/ahrefs-traffic-opportunity-analysis-python/, priority=0.5, last_modified=2020-11-10 11:01:00+00:00, change_frequency=None, news_story=None)\n",
      "SitemapPage(url=https://understandingdata.com/prospect-google-my-business-clients-with-python/, priority=0.5, last_modified=2020-07-04 16:31:00+00:00, change_frequency=None, news_story=None)\n",
      "SitemapPage(url=https://understandingdata.com/ctr-optimisation-with-machine-learning/, priority=0.5, last_modified=2020-07-04 16:31:00+00:00, change_frequency=None, news_story=None)\n",
      "SitemapPage(url=https://understandingdata.com/predicting-article-shares-with-machine-learning/, priority=0.5, last_modified=2020-07-04 16:32:00+00:00, change_frequency=None, news_story=None)\n",
      "SitemapPage(url=https://understandingdata.com/, priority=0.5, last_modified=2020-07-31 14:47:00+00:00, change_frequency=None, news_story=None)\n",
      "SitemapPage(url=https://understandingdata.com/privacy-policy/, priority=0.5, last_modified=2018-08-17 08:43:00+00:00, change_frequency=None, news_story=None)\n",
      "SitemapPage(url=https://understandingdata.com/contact/, priority=0.5, last_modified=2019-09-15 21:41:00+00:00, change_frequency=None, news_story=None)\n",
      "SitemapPage(url=https://understandingdata.com/blog/, priority=0.5, last_modified=2019-10-19 09:53:00+00:00, change_frequency=None, news_story=None)\n",
      "SitemapPage(url=https://understandingdata.com/data-engineering-services/, priority=0.5, last_modified=2020-05-25 20:44:00+00:00, change_frequency=None, news_story=None)\n",
      "SitemapPage(url=https://understandingdata.com/data-science-and-analytics-services/, priority=0.5, last_modified=2020-05-28 15:06:00+00:00, change_frequency=None, news_story=None)\n",
      "SitemapPage(url=https://understandingdata.com/digital-analytics-services/, priority=0.5, last_modified=2020-05-28 15:20:00+00:00, change_frequency=None, news_story=None)\n",
      "SitemapPage(url=https://understandingdata.com/web-scraping-services/, priority=0.5, last_modified=2020-05-28 15:16:00+00:00, change_frequency=None, news_story=None)\n",
      "SitemapPage(url=https://understandingdata.com/test-page-1-lol-haha/, priority=0.5, last_modified=2020-11-29 12:54:00+00:00, change_frequency=None, news_story=None)\n",
      "SitemapPage(url=https://understandingdata.com/how-to-hire-the-right-ai-consulting-firm/, priority=0.5, last_modified=2020-08-01 21:40:00+00:00, change_frequency=None, news_story=None)\n",
      "SitemapPage(url=https://understandingdata.com/machine-learning-use-cases-marketing/, priority=0.5, last_modified=2020-07-31 13:02:00+00:00, change_frequency=None, news_story=None)\n",
      "SitemapPage(url=https://understandingdata.com/how-to-avoid-being-blocked-web-scraping/, priority=0.5, last_modified=2020-07-31 14:52:00+00:00, change_frequency=None, news_story=None)\n",
      "SitemapPage(url=https://understandingdata.com/machine-learning-in-the-finance-industry/, priority=0.5, last_modified=2020-07-04 16:27:00+00:00, change_frequency=None, news_story=None)\n",
      "SitemapPage(url=https://understandingdata.com/list-of-python-assert-statements-for-unit-tests/, priority=0.5, last_modified=2020-07-04 16:29:00+00:00, change_frequency=None, news_story=None)\n",
      "SitemapPage(url=https://understandingdata.com/what-is-data-wrangling/, priority=0.5, last_modified=2020-07-04 16:27:00+00:00, change_frequency=None, news_story=None)\n",
      "SitemapPage(url=https://understandingdata.com/artificial-intelligence-advantages-and-disadvantages/, priority=0.5, last_modified=2020-07-04 16:28:00+00:00, change_frequency=None, news_story=None)\n",
      "SitemapPage(url=https://understandingdata.com/web-scraping-proxy-providers/, priority=0.5, last_modified=2020-09-06 14:47:00+00:00, change_frequency=None, news_story=None)\n",
      "SitemapPage(url=https://understandingdata.com/is-web-scraping-legal/, priority=0.5, last_modified=2020-07-04 16:28:00+00:00, change_frequency=None, news_story=None)\n",
      "SitemapPage(url=https://understandingdata.com/web-scraping-tools/, priority=0.5, last_modified=2020-09-08 18:49:00+00:00, change_frequency=None, news_story=None)\n",
      "SitemapPage(url=https://understandingdata.com/instagram-community-detection-with-machine-learning/, priority=0.5, last_modified=2020-07-04 16:30:00+00:00, change_frequency=None, news_story=None)\n",
      "SitemapPage(url=https://understandingdata.com/what-is-web-scraping/, priority=0.5, last_modified=2020-07-04 16:28:00+00:00, change_frequency=None, news_story=None)\n",
      "SitemapPage(url=https://understandingdata.com/install-google-chrome-selenium-ec2-aws/, priority=0.5, last_modified=2020-07-04 16:30:00+00:00, change_frequency=None, news_story=None)\n",
      "SitemapPage(url=https://understandingdata.com/how-to-install-anaconda-mac-os/, priority=0.5, last_modified=2020-07-04 16:30:00+00:00, change_frequency=None, news_story=None)\n",
      "SitemapPage(url=https://understandingdata.com/web-scraping-ninjaoutreach-at-scale/, priority=0.5, last_modified=2020-07-04 16:30:00+00:00, change_frequency=None, news_story=None)\n",
      "SitemapPage(url=https://understandingdata.com/the-advantages-disadvantages-of-web-scraping-data/, priority=0.5, last_modified=2020-07-04 16:29:00+00:00, change_frequency=None, news_story=None)\n",
      "SitemapPage(url=https://understandingdata.com/prospecting-local-seo-clients-python/, priority=0.5, last_modified=2020-07-04 16:30:00+00:00, change_frequency=None, news_story=None)\n",
      "SitemapPage(url=https://understandingdata.com/ahrefs-traffic-opportunity-analysis-python/, priority=0.5, last_modified=2020-11-10 11:01:00+00:00, change_frequency=None, news_story=None)\n",
      "SitemapPage(url=https://understandingdata.com/prospect-google-my-business-clients-with-python/, priority=0.5, last_modified=2020-07-04 16:31:00+00:00, change_frequency=None, news_story=None)\n",
      "SitemapPage(url=https://understandingdata.com/ctr-optimisation-with-machine-learning/, priority=0.5, last_modified=2020-07-04 16:31:00+00:00, change_frequency=None, news_story=None)\n",
      "SitemapPage(url=https://understandingdata.com/predicting-article-shares-with-machine-learning/, priority=0.5, last_modified=2020-07-04 16:32:00+00:00, change_frequency=None, news_story=None)\n"
     ]
    }
   ],
   "source": [
    "# all_pages() returns an Iterator\n",
    "for page in tree.all_pages():\n",
    "    print(page)"
   ]
  },
  {
   "cell_type": "markdown",
   "metadata": {},
   "source": [
    "Also, you can save of the URLs to a new variable via a list comprehension:"
   ]
  },
  {
   "cell_type": "code",
   "execution_count": 17,
   "metadata": {},
   "outputs": [],
   "source": [
    "urls = [page.url for page in tree.all_pages()]"
   ]
  },
  {
   "cell_type": "code",
   "execution_count": 18,
   "metadata": {},
   "outputs": [
    {
     "name": "stdout",
     "output_type": "stream",
     "text": [
      "120\n"
     ]
    }
   ],
   "source": [
    "print(len(urls))"
   ]
  },
  {
   "cell_type": "code",
   "execution_count": 19,
   "metadata": {},
   "outputs": [
    {
     "name": "stdout",
     "output_type": "stream",
     "text": [
      "['https://understandingdata.com/', 'https://understandingdata.com/privacy-policy/']\n"
     ]
    }
   ],
   "source": [
    "print(urls[0:2])"
   ]
  },
  {
   "cell_type": "markdown",
   "metadata": {},
   "source": [
    "------------------------------------------------------------------------------------------"
   ]
  },
  {
   "cell_type": "markdown",
   "metadata": {},
   "source": [
    "## Conclusion"
   ]
  },
  {
   "cell_type": "markdown",
   "metadata": {},
   "source": [
    "Now you'll hopefully be able to easily find all of the sitemap.xml files and the web pages in just a few lines of python code!"
   ]
  }
 ],
 "metadata": {
  "kernelspec": {
   "display_name": "Python 3",
   "language": "python",
   "name": "python3"
  },
  "language_info": {
   "codemirror_mode": {
    "name": "ipython",
    "version": 3
   },
   "file_extension": ".py",
   "mimetype": "text/x-python",
   "name": "python",
   "nbconvert_exporter": "python",
   "pygments_lexer": "ipython3",
   "version": "3.7.9"
  }
 },
 "nbformat": 4,
 "nbformat_minor": 4
}
